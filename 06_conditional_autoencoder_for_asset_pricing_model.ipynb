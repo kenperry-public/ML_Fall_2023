{
 "cells": [
  {
   "cell_type": "code",
   "execution_count": 9,
   "metadata": {
    "colab": {
     "base_uri": "https://localhost:8080/",
     "height": 35
    },
    "id": "UeYYTqZGSUhg",
    "outputId": "8351ee48-fdb5-43c5-fde0-0f84c30ee10b"
   },
   "outputs": [
    {
     "data": {
      "application/vnd.google.colaboratory.intrinsic+json": {
       "type": "string"
      },
      "text/plain": [
       "'/content'"
      ]
     },
     "execution_count": 9,
     "metadata": {},
     "output_type": "execute_result"
    }
   ],
   "source": [
    "%pwd"
   ]
  },
  {
   "cell_type": "code",
   "execution_count": 10,
   "metadata": {
    "colab": {
     "base_uri": "https://localhost:8080/"
    },
    "id": "c46HyVXNR5_R",
    "outputId": "1ac35359-99b9-4db4-d0b2-3c4026ef2fca"
   },
   "outputs": [
    {
     "name": "stdout",
     "output_type": "stream",
     "text": [
      "We're running Colab\n"
     ]
    }
   ],
   "source": [
    "try:\n",
    "  from google.colab import drive\n",
    "  IN_COLAB=True\n",
    "except:\n",
    "  IN_COLAB=False\n",
    "\n",
    "if IN_COLAB:\n",
    "  print(\"We're running Colab\")"
   ]
  },
  {
   "cell_type": "code",
   "execution_count": 11,
   "metadata": {
    "colab": {
     "base_uri": "https://localhost:8080/",
     "height": 322
    },
    "id": "RMiGR9D4R65J",
    "outputId": "fed157a0-6e70-4c5b-9268-cc824673b5c0"
   },
   "outputs": [
    {
     "name": "stdout",
     "output_type": "stream",
     "text": [
      "/content\n",
      "mkdir: cannot create directory ‘results’: File exists\n",
      "mkdir: cannot create directory ‘results/asset_pricing’: File exists\n",
      "Upload\n",
      "\t'utils/py' using the following prompt:\n",
      "/content\n"
     ]
    },
    {
     "data": {
      "text/html": [
       "\n",
       "     <input type=\"file\" id=\"files-2676cd5e-36fe-49cb-9b6e-01b083744500\" name=\"files[]\" multiple disabled\n",
       "        style=\"border:none\" />\n",
       "     <output id=\"result-2676cd5e-36fe-49cb-9b6e-01b083744500\">\n",
       "      Upload widget is only available when the cell has been executed in the\n",
       "      current browser session. Please rerun this cell to enable.\n",
       "      </output>\n",
       "      <script>// Copyright 2017 Google LLC\n",
       "//\n",
       "// Licensed under the Apache License, Version 2.0 (the \"License\");\n",
       "// you may not use this file except in compliance with the License.\n",
       "// You may obtain a copy of the License at\n",
       "//\n",
       "//      http://www.apache.org/licenses/LICENSE-2.0\n",
       "//\n",
       "// Unless required by applicable law or agreed to in writing, software\n",
       "// distributed under the License is distributed on an \"AS IS\" BASIS,\n",
       "// WITHOUT WARRANTIES OR CONDITIONS OF ANY KIND, either express or implied.\n",
       "// See the License for the specific language governing permissions and\n",
       "// limitations under the License.\n",
       "\n",
       "/**\n",
       " * @fileoverview Helpers for google.colab Python module.\n",
       " */\n",
       "(function(scope) {\n",
       "function span(text, styleAttributes = {}) {\n",
       "  const element = document.createElement('span');\n",
       "  element.textContent = text;\n",
       "  for (const key of Object.keys(styleAttributes)) {\n",
       "    element.style[key] = styleAttributes[key];\n",
       "  }\n",
       "  return element;\n",
       "}\n",
       "\n",
       "// Max number of bytes which will be uploaded at a time.\n",
       "const MAX_PAYLOAD_SIZE = 100 * 1024;\n",
       "\n",
       "function _uploadFiles(inputId, outputId) {\n",
       "  const steps = uploadFilesStep(inputId, outputId);\n",
       "  const outputElement = document.getElementById(outputId);\n",
       "  // Cache steps on the outputElement to make it available for the next call\n",
       "  // to uploadFilesContinue from Python.\n",
       "  outputElement.steps = steps;\n",
       "\n",
       "  return _uploadFilesContinue(outputId);\n",
       "}\n",
       "\n",
       "// This is roughly an async generator (not supported in the browser yet),\n",
       "// where there are multiple asynchronous steps and the Python side is going\n",
       "// to poll for completion of each step.\n",
       "// This uses a Promise to block the python side on completion of each step,\n",
       "// then passes the result of the previous step as the input to the next step.\n",
       "function _uploadFilesContinue(outputId) {\n",
       "  const outputElement = document.getElementById(outputId);\n",
       "  const steps = outputElement.steps;\n",
       "\n",
       "  const next = steps.next(outputElement.lastPromiseValue);\n",
       "  return Promise.resolve(next.value.promise).then((value) => {\n",
       "    // Cache the last promise value to make it available to the next\n",
       "    // step of the generator.\n",
       "    outputElement.lastPromiseValue = value;\n",
       "    return next.value.response;\n",
       "  });\n",
       "}\n",
       "\n",
       "/**\n",
       " * Generator function which is called between each async step of the upload\n",
       " * process.\n",
       " * @param {string} inputId Element ID of the input file picker element.\n",
       " * @param {string} outputId Element ID of the output display.\n",
       " * @return {!Iterable<!Object>} Iterable of next steps.\n",
       " */\n",
       "function* uploadFilesStep(inputId, outputId) {\n",
       "  const inputElement = document.getElementById(inputId);\n",
       "  inputElement.disabled = false;\n",
       "\n",
       "  const outputElement = document.getElementById(outputId);\n",
       "  outputElement.innerHTML = '';\n",
       "\n",
       "  const pickedPromise = new Promise((resolve) => {\n",
       "    inputElement.addEventListener('change', (e) => {\n",
       "      resolve(e.target.files);\n",
       "    });\n",
       "  });\n",
       "\n",
       "  const cancel = document.createElement('button');\n",
       "  inputElement.parentElement.appendChild(cancel);\n",
       "  cancel.textContent = 'Cancel upload';\n",
       "  const cancelPromise = new Promise((resolve) => {\n",
       "    cancel.onclick = () => {\n",
       "      resolve(null);\n",
       "    };\n",
       "  });\n",
       "\n",
       "  // Wait for the user to pick the files.\n",
       "  const files = yield {\n",
       "    promise: Promise.race([pickedPromise, cancelPromise]),\n",
       "    response: {\n",
       "      action: 'starting',\n",
       "    }\n",
       "  };\n",
       "\n",
       "  cancel.remove();\n",
       "\n",
       "  // Disable the input element since further picks are not allowed.\n",
       "  inputElement.disabled = true;\n",
       "\n",
       "  if (!files) {\n",
       "    return {\n",
       "      response: {\n",
       "        action: 'complete',\n",
       "      }\n",
       "    };\n",
       "  }\n",
       "\n",
       "  for (const file of files) {\n",
       "    const li = document.createElement('li');\n",
       "    li.append(span(file.name, {fontWeight: 'bold'}));\n",
       "    li.append(span(\n",
       "        `(${file.type || 'n/a'}) - ${file.size} bytes, ` +\n",
       "        `last modified: ${\n",
       "            file.lastModifiedDate ? file.lastModifiedDate.toLocaleDateString() :\n",
       "                                    'n/a'} - `));\n",
       "    const percent = span('0% done');\n",
       "    li.appendChild(percent);\n",
       "\n",
       "    outputElement.appendChild(li);\n",
       "\n",
       "    const fileDataPromise = new Promise((resolve) => {\n",
       "      const reader = new FileReader();\n",
       "      reader.onload = (e) => {\n",
       "        resolve(e.target.result);\n",
       "      };\n",
       "      reader.readAsArrayBuffer(file);\n",
       "    });\n",
       "    // Wait for the data to be ready.\n",
       "    let fileData = yield {\n",
       "      promise: fileDataPromise,\n",
       "      response: {\n",
       "        action: 'continue',\n",
       "      }\n",
       "    };\n",
       "\n",
       "    // Use a chunked sending to avoid message size limits. See b/62115660.\n",
       "    let position = 0;\n",
       "    do {\n",
       "      const length = Math.min(fileData.byteLength - position, MAX_PAYLOAD_SIZE);\n",
       "      const chunk = new Uint8Array(fileData, position, length);\n",
       "      position += length;\n",
       "\n",
       "      const base64 = btoa(String.fromCharCode.apply(null, chunk));\n",
       "      yield {\n",
       "        response: {\n",
       "          action: 'append',\n",
       "          file: file.name,\n",
       "          data: base64,\n",
       "        },\n",
       "      };\n",
       "\n",
       "      let percentDone = fileData.byteLength === 0 ?\n",
       "          100 :\n",
       "          Math.round((position / fileData.byteLength) * 100);\n",
       "      percent.textContent = `${percentDone}% done`;\n",
       "\n",
       "    } while (position < fileData.byteLength);\n",
       "  }\n",
       "\n",
       "  // All done.\n",
       "  yield {\n",
       "    response: {\n",
       "      action: 'complete',\n",
       "    }\n",
       "  };\n",
       "}\n",
       "\n",
       "scope.google = scope.google || {};\n",
       "scope.google.colab = scope.google.colab || {};\n",
       "scope.google.colab._files = {\n",
       "  _uploadFiles,\n",
       "  _uploadFilesContinue,\n",
       "};\n",
       "})(self);\n",
       "</script> "
      ],
      "text/plain": [
       "<IPython.core.display.HTML object>"
      ]
     },
     "metadata": {},
     "output_type": "display_data"
    },
    {
     "name": "stdout",
     "output_type": "stream",
     "text": [
      "Saving utils.py to utils.py\n",
      "Upload\n",
      "\t'results/asset_pricing/autoencoder.h5' using the following prompt\n",
      "\tsince it is a BIG file, uploading will take a LONG time\n",
      "\tIt would be better to cancel the upload (at the prompt) and copy it from Google Drive to /contents/results/asset_pricing/autoencoder.h5\n",
      "/content/results/asset_pricing\n"
     ]
    },
    {
     "data": {
      "text/html": [
       "\n",
       "     <input type=\"file\" id=\"files-c9212146-3fd4-46f8-8972-e30b0d1098d4\" name=\"files[]\" multiple disabled\n",
       "        style=\"border:none\" />\n",
       "     <output id=\"result-c9212146-3fd4-46f8-8972-e30b0d1098d4\">\n",
       "      Upload widget is only available when the cell has been executed in the\n",
       "      current browser session. Please rerun this cell to enable.\n",
       "      </output>\n",
       "      <script>// Copyright 2017 Google LLC\n",
       "//\n",
       "// Licensed under the Apache License, Version 2.0 (the \"License\");\n",
       "// you may not use this file except in compliance with the License.\n",
       "// You may obtain a copy of the License at\n",
       "//\n",
       "//      http://www.apache.org/licenses/LICENSE-2.0\n",
       "//\n",
       "// Unless required by applicable law or agreed to in writing, software\n",
       "// distributed under the License is distributed on an \"AS IS\" BASIS,\n",
       "// WITHOUT WARRANTIES OR CONDITIONS OF ANY KIND, either express or implied.\n",
       "// See the License for the specific language governing permissions and\n",
       "// limitations under the License.\n",
       "\n",
       "/**\n",
       " * @fileoverview Helpers for google.colab Python module.\n",
       " */\n",
       "(function(scope) {\n",
       "function span(text, styleAttributes = {}) {\n",
       "  const element = document.createElement('span');\n",
       "  element.textContent = text;\n",
       "  for (const key of Object.keys(styleAttributes)) {\n",
       "    element.style[key] = styleAttributes[key];\n",
       "  }\n",
       "  return element;\n",
       "}\n",
       "\n",
       "// Max number of bytes which will be uploaded at a time.\n",
       "const MAX_PAYLOAD_SIZE = 100 * 1024;\n",
       "\n",
       "function _uploadFiles(inputId, outputId) {\n",
       "  const steps = uploadFilesStep(inputId, outputId);\n",
       "  const outputElement = document.getElementById(outputId);\n",
       "  // Cache steps on the outputElement to make it available for the next call\n",
       "  // to uploadFilesContinue from Python.\n",
       "  outputElement.steps = steps;\n",
       "\n",
       "  return _uploadFilesContinue(outputId);\n",
       "}\n",
       "\n",
       "// This is roughly an async generator (not supported in the browser yet),\n",
       "// where there are multiple asynchronous steps and the Python side is going\n",
       "// to poll for completion of each step.\n",
       "// This uses a Promise to block the python side on completion of each step,\n",
       "// then passes the result of the previous step as the input to the next step.\n",
       "function _uploadFilesContinue(outputId) {\n",
       "  const outputElement = document.getElementById(outputId);\n",
       "  const steps = outputElement.steps;\n",
       "\n",
       "  const next = steps.next(outputElement.lastPromiseValue);\n",
       "  return Promise.resolve(next.value.promise).then((value) => {\n",
       "    // Cache the last promise value to make it available to the next\n",
       "    // step of the generator.\n",
       "    outputElement.lastPromiseValue = value;\n",
       "    return next.value.response;\n",
       "  });\n",
       "}\n",
       "\n",
       "/**\n",
       " * Generator function which is called between each async step of the upload\n",
       " * process.\n",
       " * @param {string} inputId Element ID of the input file picker element.\n",
       " * @param {string} outputId Element ID of the output display.\n",
       " * @return {!Iterable<!Object>} Iterable of next steps.\n",
       " */\n",
       "function* uploadFilesStep(inputId, outputId) {\n",
       "  const inputElement = document.getElementById(inputId);\n",
       "  inputElement.disabled = false;\n",
       "\n",
       "  const outputElement = document.getElementById(outputId);\n",
       "  outputElement.innerHTML = '';\n",
       "\n",
       "  const pickedPromise = new Promise((resolve) => {\n",
       "    inputElement.addEventListener('change', (e) => {\n",
       "      resolve(e.target.files);\n",
       "    });\n",
       "  });\n",
       "\n",
       "  const cancel = document.createElement('button');\n",
       "  inputElement.parentElement.appendChild(cancel);\n",
       "  cancel.textContent = 'Cancel upload';\n",
       "  const cancelPromise = new Promise((resolve) => {\n",
       "    cancel.onclick = () => {\n",
       "      resolve(null);\n",
       "    };\n",
       "  });\n",
       "\n",
       "  // Wait for the user to pick the files.\n",
       "  const files = yield {\n",
       "    promise: Promise.race([pickedPromise, cancelPromise]),\n",
       "    response: {\n",
       "      action: 'starting',\n",
       "    }\n",
       "  };\n",
       "\n",
       "  cancel.remove();\n",
       "\n",
       "  // Disable the input element since further picks are not allowed.\n",
       "  inputElement.disabled = true;\n",
       "\n",
       "  if (!files) {\n",
       "    return {\n",
       "      response: {\n",
       "        action: 'complete',\n",
       "      }\n",
       "    };\n",
       "  }\n",
       "\n",
       "  for (const file of files) {\n",
       "    const li = document.createElement('li');\n",
       "    li.append(span(file.name, {fontWeight: 'bold'}));\n",
       "    li.append(span(\n",
       "        `(${file.type || 'n/a'}) - ${file.size} bytes, ` +\n",
       "        `last modified: ${\n",
       "            file.lastModifiedDate ? file.lastModifiedDate.toLocaleDateString() :\n",
       "                                    'n/a'} - `));\n",
       "    const percent = span('0% done');\n",
       "    li.appendChild(percent);\n",
       "\n",
       "    outputElement.appendChild(li);\n",
       "\n",
       "    const fileDataPromise = new Promise((resolve) => {\n",
       "      const reader = new FileReader();\n",
       "      reader.onload = (e) => {\n",
       "        resolve(e.target.result);\n",
       "      };\n",
       "      reader.readAsArrayBuffer(file);\n",
       "    });\n",
       "    // Wait for the data to be ready.\n",
       "    let fileData = yield {\n",
       "      promise: fileDataPromise,\n",
       "      response: {\n",
       "        action: 'continue',\n",
       "      }\n",
       "    };\n",
       "\n",
       "    // Use a chunked sending to avoid message size limits. See b/62115660.\n",
       "    let position = 0;\n",
       "    do {\n",
       "      const length = Math.min(fileData.byteLength - position, MAX_PAYLOAD_SIZE);\n",
       "      const chunk = new Uint8Array(fileData, position, length);\n",
       "      position += length;\n",
       "\n",
       "      const base64 = btoa(String.fromCharCode.apply(null, chunk));\n",
       "      yield {\n",
       "        response: {\n",
       "          action: 'append',\n",
       "          file: file.name,\n",
       "          data: base64,\n",
       "        },\n",
       "      };\n",
       "\n",
       "      let percentDone = fileData.byteLength === 0 ?\n",
       "          100 :\n",
       "          Math.round((position / fileData.byteLength) * 100);\n",
       "      percent.textContent = `${percentDone}% done`;\n",
       "\n",
       "    } while (position < fileData.byteLength);\n",
       "  }\n",
       "\n",
       "  // All done.\n",
       "  yield {\n",
       "    response: {\n",
       "      action: 'complete',\n",
       "    }\n",
       "  };\n",
       "}\n",
       "\n",
       "scope.google = scope.google || {};\n",
       "scope.google.colab = scope.google.colab || {};\n",
       "scope.google.colab._files = {\n",
       "  _uploadFiles,\n",
       "  _uploadFilesContinue,\n",
       "};\n",
       "})(self);\n",
       "</script> "
      ],
      "text/plain": [
       "<IPython.core.display.HTML object>"
      ]
     },
     "metadata": {},
     "output_type": "display_data"
    },
    {
     "name": "stdout",
     "output_type": "stream",
     "text": [
      "/content\n"
     ]
    }
   ],
   "source": [
    "if IN_COLAB:\n",
    "  from google.colab import files\n",
    "\n",
    "  %cd /content\n",
    "  %mkdir results\n",
    "  %mkdir results/asset_pricing\n",
    "\n",
    "  print(\"Upload\")\n",
    "  print(\"\\t'utils/py' using the following prompt:\")\n",
    "\n",
    "  %cd /content\n",
    "  _ = files.upload()\n",
    "\n",
    "  print(\"Upload\") \n",
    "  print(\"\\t'results/asset_pricing/autoencoder.h5' using the following prompt\")\n",
    "  print(\"\\tsince it is a BIG file, uploading will take a LONG time\")\n",
    "  print(\"\\tIt would be better to cancel the upload (at the prompt) and copy it from Google Drive to /contents/results/asset_pricing/autoencoder.h5\")\n",
    "  %cd /content/results/asset_pricing\n",
    "  _ = files.upload()\n",
    "\n",
    "  from pathlib import Path\n",
    "  h5_file = '/content/results/asset_pricing/autoencoder.h5'\n",
    "  h5_path = Path(h5_file)\n",
    "\n",
    "  # If we didn't upload the file (b/c it is too large)\n",
    "  # - mount Google Drive\n",
    "  # - copy it from there\n",
    "  if not h5_path.is_file():\n",
    "    print(\"Mount the Google drive\")\n",
    "\n",
    "    from google.colab import drive\n",
    "\n",
    "    drive.mount('/content/drive')\n",
    "\n",
    "    !cp /content/drive/MyDrive/autoencoder.h5 $h5_file\n",
    "\n",
    "  # Change back to directory of notebook (all file references are relative to it)\n",
    "  %cd /content\n",
    "  \n",
    " "
   ]
  },
  {
   "cell_type": "code",
   "execution_count": 12,
   "metadata": {
    "colab": {
     "base_uri": "https://localhost:8080/",
     "height": 53
    },
    "id": "q-w5d229iJpy",
    "outputId": "59649ef1-708d-4fe5-df9c-0a63aefe1905"
   },
   "outputs": [
    {
     "name": "stdout",
     "output_type": "stream",
     "text": [
      "/content\n"
     ]
    },
    {
     "data": {
      "application/vnd.google.colaboratory.intrinsic+json": {
       "type": "string"
      },
      "text/plain": [
       "'/content'"
      ]
     },
     "execution_count": 12,
     "metadata": {},
     "output_type": "execute_result"
    }
   ],
   "source": [
    "%cd /content\n",
    "%pwd"
   ]
  },
  {
   "cell_type": "markdown",
   "metadata": {
    "id": "ZQQObJzZRnkT"
   },
   "source": [
    "# Conditional Autoencoder for Asset Pricing - Part 2: The Model"
   ]
  },
  {
   "cell_type": "markdown",
   "metadata": {
    "id": "GIrSmiR2RnkX"
   },
   "source": [
    "# kjp:\n",
    "\n",
    "This notebook uses a dataset created using `yfinance` in the notebook `05_conditional_autoencoder_for_asset_pricing_data`\n",
    "- Good chance I modified the original to fix issues, including switching data source to Stooq from yfinance\n",
    "- [Original: 05_conditional_autoencoder_for_asset_pricing_data](https://github.com/stefan-jansen/machine-learning-for-trading/blob/main/20_autoencoders_for_conditional_risk_factors/05_conditional_autoencoder_for_asset_pricing_data.ipynb). The results will vary depending on which ticker downloads succeeded."
   ]
  },
  {
   "cell_type": "code",
   "execution_count": 13,
   "metadata": {
    "ExecuteTime": {
     "end_time": "2021-02-25T02:19:34.605450Z",
     "start_time": "2021-02-25T02:19:34.603752Z"
    },
    "id": "clmK0tG-RnkX"
   },
   "outputs": [],
   "source": [
    "import warnings\n",
    "warnings.filterwarnings('ignore')"
   ]
  },
  {
   "cell_type": "code",
   "execution_count": 3,
   "metadata": {
    "ExecuteTime": {
     "end_time": "2021-02-25T02:19:36.827983Z",
     "start_time": "2021-02-25T02:19:34.779105Z"
    },
    "id": "7Yy9-mNRRnkZ"
   },
   "outputs": [],
   "source": [
    "import sys, os\n",
    "from time import time\n",
    "from pathlib import Path\n",
    "from itertools import product\n",
    "from tqdm import tqdm \n",
    "\n",
    "import numpy as np\n",
    "import pandas as pd\n",
    "\n",
    "import matplotlib.pyplot as plt\n",
    "import seaborn as sns\n",
    "\n",
    "import tensorflow as tf\n",
    "from tensorflow.keras.layers import Input, Dense, Dot, Reshape, BatchNormalization\n",
    "from tensorflow.keras.models import Model\n",
    "from tensorflow.keras.callbacks import TensorBoard\n",
    "\n",
    "from sklearn.preprocessing import quantile_transform\n",
    "\n",
    "from scipy.stats import spearmanr"
   ]
  },
  {
   "cell_type": "code",
   "execution_count": 5,
   "metadata": {
    "ExecuteTime": {
     "end_time": "2021-02-25T02:19:36.921304Z",
     "start_time": "2021-02-25T02:19:36.829045Z"
    },
    "colab": {
     "base_uri": "https://localhost:8080/"
    },
    "id": "xaVzqxP0Rnka",
    "outputId": "f5ed833a-7860-4957-9f11-6b0e23cde044"
   },
   "outputs": [
    {
     "name": "stdout",
     "output_type": "stream",
     "text": [
      "Using CPU\n"
     ]
    }
   ],
   "source": [
    "gpu_devices = tf.config.experimental.list_physical_devices('GPU')\n",
    "if gpu_devices:\n",
    "    print('Using GPU')\n",
    "    tf.config.experimental.set_memory_growth(gpu_devices[0], True)\n",
    "else:\n",
    "    print('Using CPU')"
   ]
  },
  {
   "cell_type": "code",
   "execution_count": 6,
   "metadata": {
    "ExecuteTime": {
     "end_time": "2021-02-25T02:19:36.936409Z",
     "start_time": "2021-02-25T02:19:36.923157Z"
    },
    "id": "hPM8HmnjRnkb"
   },
   "outputs": [],
   "source": [
    "sys.path.insert(1, os.path.join(sys.path[0], '..'))\n",
    "from utils import MultipleTimeSeriesCV, format_time"
   ]
  },
  {
   "cell_type": "code",
   "execution_count": 7,
   "metadata": {
    "ExecuteTime": {
     "end_time": "2021-02-25T02:19:36.941712Z",
     "start_time": "2021-02-25T02:19:36.937278Z"
    },
    "id": "HdSzCCklRnkb"
   },
   "outputs": [],
   "source": [
    "idx = pd.IndexSlice\n",
    "sns.set_style('whitegrid')\n",
    "np.random.seed(42)"
   ]
  },
  {
   "cell_type": "code",
   "execution_count": 8,
   "metadata": {
    "ExecuteTime": {
     "end_time": "2021-02-25T02:19:37.833897Z",
     "start_time": "2021-02-25T02:19:37.830039Z"
    },
    "id": "lK6USg9FRnkc"
   },
   "outputs": [],
   "source": [
    "results_path = Path('results', 'asset_pricing')\n",
    "if not results_path.exists():\n",
    "    results_path.mkdir(parents=True)"
   ]
  },
  {
   "cell_type": "code",
   "execution_count": 9,
   "metadata": {
    "ExecuteTime": {
     "end_time": "2021-02-25T02:19:38.033251Z",
     "start_time": "2021-02-25T02:19:38.027838Z"
    },
    "id": "O4eVsGkyRnkc"
   },
   "outputs": [],
   "source": [
    "characteristics = ['beta', 'betasq', 'chmom', 'dolvol', 'idiovol', 'ill', 'indmom',\n",
    "                   'maxret', 'mom12m', 'mom1m', 'mom36m', 'mvel', 'retvol', 'turn', 'turn_std']"
   ]
  },
  {
   "cell_type": "markdown",
   "metadata": {
    "id": "ckqXh5uzRnkc"
   },
   "source": [
    "## Load Data"
   ]
  },
  {
   "cell_type": "code",
   "execution_count": 20,
   "metadata": {
    "colab": {
     "base_uri": "https://localhost:8080/"
    },
    "id": "KFhxGPqMiWEy",
    "outputId": "63f9d58b-fabd-4161-dff8-61daa603e1c7"
   },
   "outputs": [
    {
     "name": "stdout",
     "output_type": "stream",
     "text": [
      "-rw------- 1 root root 601M Feb 22 20:19 results/asset_pricing/autoencoder.h5\n"
     ]
    }
   ],
   "source": [
    "! ls -lh results/asset_pricing/autoencoder.h5"
   ]
  },
  {
   "cell_type": "code",
   "execution_count": 21,
   "metadata": {
    "ExecuteTime": {
     "end_time": "2021-02-24T18:50:13.572501Z",
     "start_time": "2021-02-24T18:50:13.512736Z"
    },
    "colab": {
     "base_uri": "https://localhost:8080/"
    },
    "id": "Kqt2ctYVRnkd",
    "outputId": "82f85c46-3e27-4384-a037-be31cb0e7406"
   },
   "outputs": [
    {
     "name": "stdout",
     "output_type": "stream",
     "text": [
      "<class 'pandas.io.pytables.HDFStore'>\n",
      "File path: results/asset_pricing/autoencoder.h5\n",
      "/close                     frame        (shape->[5538,1961]) \n",
      "/factor/beta               frame        (shape->[986406,1])  \n",
      "/factor/betasq             frame        (shape->[986406,1])  \n",
      "/factor/chmom              frame        (shape->[1184968,1]) \n",
      "/factor/dolvol             frame        (shape->[1142802,1]) \n",
      "/factor/idiovol            frame        (shape->[986406,1])  \n",
      "/factor/ill                frame        (shape->[1148128,1]) \n",
      "/factor/indmom             frame        (shape->[1279314,1]) \n",
      "/factor/maxret             frame        (shape->[1270146,1]) \n",
      "/factor/mom12m             frame        (shape->[1184968,1]) \n",
      "/factor/mom1m              series       (shape->[1278156])   \n",
      "/factor/mom36m             frame        (shape->[984680,1])  \n",
      "/factor/mvel               frame        (shape->[1281891,1]) \n",
      "/factor/retvol             frame        (shape->[1278156,1]) \n",
      "/metadata                  frame        (shape->[1,2])       \n",
      "/model_data                frame        (shape->[2043362,15])\n",
      "/returns                   frame        (shape->[1148,1961]) \n",
      "/volume                    frame        (shape->[5538,1961]) \n"
     ]
    }
   ],
   "source": [
    "with pd.HDFStore(results_path / 'autoencoder.h5') as store:\n",
    "    print(store.info())"
   ]
  },
  {
   "cell_type": "markdown",
   "metadata": {
    "id": "hGs6LIsKRnkd"
   },
   "source": [
    "### Weekly returns"
   ]
  },
  {
   "cell_type": "code",
   "execution_count": 22,
   "metadata": {
    "ExecuteTime": {
     "end_time": "2021-02-25T01:26:06.206795Z",
     "start_time": "2021-02-25T01:26:04.882874Z"
    },
    "id": "ZJIduI7PRnkd"
   },
   "outputs": [],
   "source": [
    "data = (pd.read_hdf(results_path / 'autoencoder.h5', 'returns')\n",
    "        .stack(dropna=False)\n",
    "        .to_frame('returns')\n",
    "        .loc[idx['1993':, :], :])"
   ]
  },
  {
   "cell_type": "code",
   "execution_count": 23,
   "metadata": {
    "ExecuteTime": {
     "end_time": "2021-02-25T01:31:04.871050Z",
     "start_time": "2021-02-25T01:26:29.547812Z"
    },
    "id": "JBasBmnaRnke"
   },
   "outputs": [],
   "source": [
    "with pd.HDFStore(results_path / 'autoencoder.h5') as store:\n",
    "    keys = [k[1:] for k in store.keys() if k[1:].startswith('factor')]\n",
    "    for key in keys:\n",
    "        data[key.split('/')[-1]] = store[key].squeeze()"
   ]
  },
  {
   "cell_type": "code",
   "execution_count": 24,
   "metadata": {
    "ExecuteTime": {
     "end_time": "2021-02-25T01:31:05.500857Z",
     "start_time": "2021-02-25T01:31:04.872471Z"
    },
    "id": "eYobOD9KRnke"
   },
   "outputs": [],
   "source": [
    "characteristics = data.drop('returns', axis=1).columns.tolist()"
   ]
  },
  {
   "cell_type": "code",
   "execution_count": 25,
   "metadata": {
    "ExecuteTime": {
     "end_time": "2021-02-25T01:31:20.675618Z",
     "start_time": "2021-02-25T01:31:05.506982Z"
    },
    "id": "iBd8B41ZRnke"
   },
   "outputs": [],
   "source": [
    "data['returns_fwd'] = data.returns.unstack('ticker').shift(-1).stack()"
   ]
  },
  {
   "cell_type": "code",
   "execution_count": 26,
   "metadata": {
    "ExecuteTime": {
     "end_time": "2021-02-25T01:31:21.117546Z",
     "start_time": "2021-02-25T01:31:20.677182Z"
    },
    "colab": {
     "base_uri": "https://localhost:8080/"
    },
    "id": "pno6-NlnRnke",
    "outputId": "d6a7acbe-ffdd-48bf-8c5e-e30bdbeca93d"
   },
   "outputs": [
    {
     "name": "stdout",
     "output_type": "stream",
     "text": [
      "<class 'pandas.core.frame.DataFrame'>\n",
      "MultiIndex: 2251228 entries, (Timestamp('2000-01-14 00:00:00', freq='W-FRI'), 'AAL') to (Timestamp('2022-01-07 00:00:00', freq='W-FRI'), 'ZYNE')\n",
      "Data columns (total 15 columns):\n",
      " #   Column       Non-Null Count    Dtype  \n",
      "---  ------       --------------    -----  \n",
      " 0   returns      1285304 non-null  float64\n",
      " 1   beta         986406 non-null   float64\n",
      " 2   betasq       986406 non-null   float64\n",
      " 3   chmom        1184968 non-null  float64\n",
      " 4   dolvol       1142802 non-null  float64\n",
      " 5   idiovol      986406 non-null   float64\n",
      " 6   ill          1148128 non-null  float64\n",
      " 7   indmom       1279314 non-null  float64\n",
      " 8   maxret       1270146 non-null  float64\n",
      " 9   mom12m       1184968 non-null  float64\n",
      " 10  mom1m        1278156 non-null  float64\n",
      " 11  mom36m       984680 non-null   float64\n",
      " 12  mvel         1281806 non-null  float64\n",
      " 13  retvol       1278156 non-null  float64\n",
      " 14  returns_fwd  1285219 non-null  float64\n",
      "dtypes: float64(15)\n",
      "memory usage: 266.3+ MB\n"
     ]
    }
   ],
   "source": [
    "data.info(null_counts=True)"
   ]
  },
  {
   "cell_type": "code",
   "execution_count": 27,
   "metadata": {
    "ExecuteTime": {
     "end_time": "2021-02-24T18:52:55.851733Z",
     "start_time": "2021-02-24T18:52:54.472212Z"
    },
    "id": "etA-hEXRRnkf"
   },
   "outputs": [],
   "source": [
    "nobs_by_date = data.groupby(level='date').count().max(1)\n",
    "nobs_by_characteristic = pd.melt(data[characteristics].groupby(level='date').count(),\n",
    "                                 value_name='# Observations',\n",
    "                                 var_name=['Characteristic'])"
   ]
  },
  {
   "cell_type": "code",
   "execution_count": 28,
   "metadata": {
    "ExecuteTime": {
     "end_time": "2021-02-24T18:52:56.259184Z",
     "start_time": "2021-02-24T18:52:55.852633Z"
    },
    "colab": {
     "base_uri": "https://localhost:8080/",
     "height": 224
    },
    "id": "_5YoMi68Rnkf",
    "outputId": "620324e6-f170-4456-e7af-215208022ed5"
   },
   "outputs": [
    {
     "data": {
      "image/png": "[encoded data removed]",
      "text/plain": [
       "<Figure size 1008x288 with 2 Axes>"
      ]
     },
     "metadata": {},
     "output_type": "display_data"
    }
   ],
   "source": [
    "with sns.axes_style(\"white\"):\n",
    "    fig, axes = plt.subplots(ncols=2, figsize=(14, 4))\n",
    "    sns.distplot(nobs_by_date, kde=False, ax=axes[0])\n",
    "    axes[0].set_title('# of Stocks per Week')\n",
    "    axes[0].set_xlabel('# of Observations')\n",
    "    sns.boxplot(x='Characteristic',\n",
    "                y='# Observations',\n",
    "                data=nobs_by_characteristic,\n",
    "                ax=axes[1],\n",
    "                palette='Blues')\n",
    "    axes[1].set_xticklabels(axes[1].get_xticklabels(),\n",
    "                            rotation=25,\n",
    "                            ha='right')\n",
    "    axes[1].set_title('# of Observation per Stock Characteristic')\n",
    "    sns.despine()\n",
    "    fig.tight_layout()"
   ]
  },
  {
   "cell_type": "markdown",
   "metadata": {
    "id": "OPE_Vn5tRnkf"
   },
   "source": [
    "### Rank-normalize characteristics"
   ]
  },
  {
   "cell_type": "code",
   "execution_count": 29,
   "metadata": {
    "ExecuteTime": {
     "end_time": "2021-02-24T18:54:46.798214Z",
     "start_time": "2021-02-24T18:52:56.260370Z"
    },
    "id": "fBUy1tMZRnkf"
   },
   "outputs": [],
   "source": [
    "data.loc[:, characteristics] = (data.loc[:, characteristics]\n",
    "                                .groupby(level='date')\n",
    "                                .apply(lambda x: pd.DataFrame(quantile_transform(x, \n",
    "                                                                                 copy=True, \n",
    "                                                                                 n_quantiles=x.shape[0]),\n",
    "                                                              columns=characteristics,\n",
    "                                                              index=x.index.get_level_values('ticker')))\n",
    "                               .mul(2).sub(1))"
   ]
  },
  {
   "cell_type": "code",
   "execution_count": 30,
   "metadata": {
    "ExecuteTime": {
     "end_time": "2021-02-24T18:54:46.944271Z",
     "start_time": "2021-02-24T18:54:46.799110Z"
    },
    "colab": {
     "base_uri": "https://localhost:8080/"
    },
    "id": "AYoC6yDvRnkg",
    "outputId": "67049b7a-df7b-4478-dca0-78e5c0282d73"
   },
   "outputs": [
    {
     "name": "stdout",
     "output_type": "stream",
     "text": [
      "<class 'pandas.core.frame.DataFrame'>\n",
      "MultiIndex: 2251228 entries, (Timestamp('2000-01-14 00:00:00', freq='W-FRI'), 'AAL') to (Timestamp('2022-01-07 00:00:00', freq='W-FRI'), 'ZYNE')\n",
      "Data columns (total 15 columns):\n",
      " #   Column       Non-Null Count    Dtype  \n",
      "---  ------       --------------    -----  \n",
      " 0   returns      1285304 non-null  float64\n",
      " 1   beta         986406 non-null   float64\n",
      " 2   betasq       986406 non-null   float64\n",
      " 3   chmom        1184968 non-null  float64\n",
      " 4   dolvol       1142802 non-null  float64\n",
      " 5   idiovol      986406 non-null   float64\n",
      " 6   ill          1148128 non-null  float64\n",
      " 7   indmom       1279314 non-null  float64\n",
      " 8   maxret       1270146 non-null  float64\n",
      " 9   mom12m       1184968 non-null  float64\n",
      " 10  mom1m        1278156 non-null  float64\n",
      " 11  mom36m       984680 non-null   float64\n",
      " 12  mvel         1281806 non-null  float64\n",
      " 13  retvol       1278156 non-null  float64\n",
      " 14  returns_fwd  1285219 non-null  float64\n",
      "dtypes: float64(15)\n",
      "memory usage: 266.3+ MB\n"
     ]
    }
   ],
   "source": [
    "data.info(null_counts=True)"
   ]
  },
  {
   "cell_type": "code",
   "execution_count": 31,
   "metadata": {
    "ExecuteTime": {
     "end_time": "2021-02-24T18:54:46.948950Z",
     "start_time": "2021-02-24T18:54:46.945523Z"
    },
    "colab": {
     "base_uri": "https://localhost:8080/"
    },
    "id": "PFIFXzG2Rnkg",
    "outputId": "cb2ea779-de1e-4d9e-a844-c05b795acd60"
   },
   "outputs": [
    {
     "data": {
      "text/plain": [
       "FrozenList(['date', 'ticker'])"
      ]
     },
     "execution_count": 31,
     "metadata": {},
     "output_type": "execute_result"
    }
   ],
   "source": [
    "data.index.names"
   ]
  },
  {
   "cell_type": "code",
   "execution_count": 32,
   "metadata": {
    "ExecuteTime": {
     "end_time": "2021-02-24T18:54:50.852191Z",
     "start_time": "2021-02-24T18:54:46.950191Z"
    },
    "colab": {
     "base_uri": "https://localhost:8080/",
     "height": 364
    },
    "id": "qazM50pGRnkg",
    "outputId": "54e7c77c-d6ab-48ee-f6ec-d9869d626397"
   },
   "outputs": [
    {
     "data": {
      "text/html": [
       "\n",
       "  <div id=\"df-f4a6536b-2c42-4beb-9a06-9c4933e568fc\">\n",
       "    <div class=\"colab-df-container\">\n",
       "      <div>\n",
       "<style scoped>\n",
       "    .dataframe tbody tr th:only-of-type {\n",
       "        vertical-align: middle;\n",
       "    }\n",
       "\n",
       "    .dataframe tbody tr th {\n",
       "        vertical-align: top;\n",
       "    }\n",
       "\n",
       "    .dataframe thead th {\n",
       "        text-align: right;\n",
       "    }\n",
       "</style>\n",
       "<table border=\"1\" class=\"dataframe\">\n",
       "  <thead>\n",
       "    <tr style=\"text-align: right;\">\n",
       "      <th></th>\n",
       "      <th>returns</th>\n",
       "      <th>beta</th>\n",
       "      <th>betasq</th>\n",
       "      <th>chmom</th>\n",
       "      <th>dolvol</th>\n",
       "      <th>idiovol</th>\n",
       "      <th>ill</th>\n",
       "      <th>indmom</th>\n",
       "      <th>maxret</th>\n",
       "      <th>mom12m</th>\n",
       "      <th>mom1m</th>\n",
       "      <th>mom36m</th>\n",
       "      <th>mvel</th>\n",
       "      <th>retvol</th>\n",
       "      <th>returns_fwd</th>\n",
       "    </tr>\n",
       "  </thead>\n",
       "  <tbody>\n",
       "    <tr>\n",
       "      <th>count</th>\n",
       "      <td>1.285304e+06</td>\n",
       "      <td>9.864060e+05</td>\n",
       "      <td>986406.000000</td>\n",
       "      <td>1.184968e+06</td>\n",
       "      <td>1.142802e+06</td>\n",
       "      <td>9.864060e+05</td>\n",
       "      <td>1.148128e+06</td>\n",
       "      <td>1.279314e+06</td>\n",
       "      <td>1.270146e+06</td>\n",
       "      <td>1.184968e+06</td>\n",
       "      <td>1.278156e+06</td>\n",
       "      <td>9.846800e+05</td>\n",
       "      <td>1.281806e+06</td>\n",
       "      <td>1.278156e+06</td>\n",
       "      <td>1.285219e+06</td>\n",
       "    </tr>\n",
       "    <tr>\n",
       "      <th>mean</th>\n",
       "      <td>3.649240e-03</td>\n",
       "      <td>-3.395821e-08</td>\n",
       "      <td>-0.000001</td>\n",
       "      <td>-3.187073e-08</td>\n",
       "      <td>-2.443282e-07</td>\n",
       "      <td>-5.318335e-07</td>\n",
       "      <td>-1.937938e-06</td>\n",
       "      <td>1.762229e-03</td>\n",
       "      <td>-4.982460e-07</td>\n",
       "      <td>-5.370746e-07</td>\n",
       "      <td>-6.787244e-09</td>\n",
       "      <td>-6.874396e-07</td>\n",
       "      <td>-2.435672e-07</td>\n",
       "      <td>-2.999413e-06</td>\n",
       "      <td>3.645127e-03</td>\n",
       "    </tr>\n",
       "    <tr>\n",
       "      <th>std</th>\n",
       "      <td>1.371731e-01</td>\n",
       "      <td>5.779312e-01</td>\n",
       "      <td>0.577933</td>\n",
       "      <td>5.778837e-01</td>\n",
       "      <td>5.779275e-01</td>\n",
       "      <td>5.779315e-01</td>\n",
       "      <td>5.779261e-01</td>\n",
       "      <td>6.167541e-01</td>\n",
       "      <td>5.778677e-01</td>\n",
       "      <td>5.778841e-01</td>\n",
       "      <td>5.778660e-01</td>\n",
       "      <td>5.779322e-01</td>\n",
       "      <td>5.778665e-01</td>\n",
       "      <td>5.778706e-01</td>\n",
       "      <td>1.371700e-01</td>\n",
       "    </tr>\n",
       "    <tr>\n",
       "      <th>min</th>\n",
       "      <td>-9.812491e-01</td>\n",
       "      <td>-1.000000e+00</td>\n",
       "      <td>-1.000000</td>\n",
       "      <td>-1.000000e+00</td>\n",
       "      <td>-1.000000e+00</td>\n",
       "      <td>-1.000000e+00</td>\n",
       "      <td>-1.000000e+00</td>\n",
       "      <td>-1.000000e+00</td>\n",
       "      <td>-1.000000e+00</td>\n",
       "      <td>-1.000000e+00</td>\n",
       "      <td>-1.000000e+00</td>\n",
       "      <td>-1.000000e+00</td>\n",
       "      <td>-1.000000e+00</td>\n",
       "      <td>-1.000000e+00</td>\n",
       "      <td>-9.812491e-01</td>\n",
       "    </tr>\n",
       "    <tr>\n",
       "      <th>25%</th>\n",
       "      <td>-2.969524e-02</td>\n",
       "      <td>-5.003937e-01</td>\n",
       "      <td>-0.500380</td>\n",
       "      <td>-5.003085e-01</td>\n",
       "      <td>-5.004249e-01</td>\n",
       "      <td>-5.003776e-01</td>\n",
       "      <td>-5.003630e-01</td>\n",
       "      <td>-5.040816e-01</td>\n",
       "      <td>-5.003137e-01</td>\n",
       "      <td>-5.003257e-01</td>\n",
       "      <td>-5.003152e-01</td>\n",
       "      <td>-5.004232e-01</td>\n",
       "      <td>-5.003303e-01</td>\n",
       "      <td>-5.003434e-01</td>\n",
       "      <td>-2.969676e-02</td>\n",
       "    </tr>\n",
       "    <tr>\n",
       "      <th>50%</th>\n",
       "      <td>0.000000e+00</td>\n",
       "      <td>0.000000e+00</td>\n",
       "      <td>0.000000</td>\n",
       "      <td>0.000000e+00</td>\n",
       "      <td>0.000000e+00</td>\n",
       "      <td>0.000000e+00</td>\n",
       "      <td>0.000000e+00</td>\n",
       "      <td>-3.061224e-03</td>\n",
       "      <td>0.000000e+00</td>\n",
       "      <td>0.000000e+00</td>\n",
       "      <td>0.000000e+00</td>\n",
       "      <td>0.000000e+00</td>\n",
       "      <td>0.000000e+00</td>\n",
       "      <td>0.000000e+00</td>\n",
       "      <td>0.000000e+00</td>\n",
       "    </tr>\n",
       "    <tr>\n",
       "      <th>75%</th>\n",
       "      <td>3.111111e-02</td>\n",
       "      <td>5.004210e-01</td>\n",
       "      <td>0.500359</td>\n",
       "      <td>5.003475e-01</td>\n",
       "      <td>5.003924e-01</td>\n",
       "      <td>5.004070e-01</td>\n",
       "      <td>5.003389e-01</td>\n",
       "      <td>5.000000e-01</td>\n",
       "      <td>5.002912e-01</td>\n",
       "      <td>5.003100e-01</td>\n",
       "      <td>5.002747e-01</td>\n",
       "      <td>5.003579e-01</td>\n",
       "      <td>5.003578e-01</td>\n",
       "      <td>5.003041e-01</td>\n",
       "      <td>3.110728e-02</td>\n",
       "    </tr>\n",
       "    <tr>\n",
       "      <th>max</th>\n",
       "      <td>1.056657e+02</td>\n",
       "      <td>1.000000e+00</td>\n",
       "      <td>1.000000</td>\n",
       "      <td>1.000000e+00</td>\n",
       "      <td>1.000000e+00</td>\n",
       "      <td>1.000000e+00</td>\n",
       "      <td>1.000000e+00</td>\n",
       "      <td>1.000000e+00</td>\n",
       "      <td>1.000000e+00</td>\n",
       "      <td>1.000000e+00</td>\n",
       "      <td>1.000000e+00</td>\n",
       "      <td>1.000000e+00</td>\n",
       "      <td>1.000000e+00</td>\n",
       "      <td>1.000000e+00</td>\n",
       "      <td>1.056657e+02</td>\n",
       "    </tr>\n",
       "  </tbody>\n",
       "</table>\n",
       "</div>\n",
       "      <button class=\"colab-df-convert\" onclick=\"convertToInteractive('df-f4a6536b-2c42-4beb-9a06-9c4933e568fc')\"\n",
       "              title=\"Convert this dataframe to an interactive table.\"\n",
       "              style=\"display:none;\">\n",
       "        \n",
       "  <svg xmlns=\"http://www.w3.org/2000/svg\" height=\"24px\"viewBox=\"0 0 24 24\"\n",
       "       width=\"24px\">\n",
       "    <path d=\"M0 0h24v24H0V0z\" fill=\"none\"/>\n",
       "    <path d=\"M18.56 5.44l.94 2.06.94-2.06 2.06-.94-2.06-.94-.94-2.06-.94 2.06-2.06.94zm-11 1L8.5 8.5l.94-2.06 2.06-.94-2.06-.94L8.5 2.5l-.94 2.06-2.06.94zm10 10l.94 2.06.94-2.06 2.06-.94-2.06-.94-.94-2.06-.94 2.06-2.06.94z\"/><path d=\"M17.41 7.96l-1.37-1.37c-.4-.4-.92-.59-1.43-.59-.52 0-1.04.2-1.43.59L10.3 9.45l-7.72 7.72c-.78.78-.78 2.05 0 2.83L4 21.41c.39.39.9.59 1.41.59.51 0 1.02-.2 1.41-.59l7.78-7.78 2.81-2.81c.8-.78.8-2.07 0-2.86zM5.41 20L4 18.59l7.72-7.72 1.47 1.35L5.41 20z\"/>\n",
       "  </svg>\n",
       "      </button>\n",
       "      \n",
       "  <style>\n",
       "    .colab-df-container {\n",
       "      display:flex;\n",
       "      flex-wrap:wrap;\n",
       "      gap: 12px;\n",
       "    }\n",
       "\n",
       "    .colab-df-convert {\n",
       "      background-color: #E8F0FE;\n",
       "      border: none;\n",
       "      border-radius: 50%;\n",
       "      cursor: pointer;\n",
       "      display: none;\n",
       "      fill: #1967D2;\n",
       "      height: 32px;\n",
       "      padding: 0 0 0 0;\n",
       "      width: 32px;\n",
       "    }\n",
       "\n",
       "    .colab-df-convert:hover {\n",
       "      background-color: #E2EBFA;\n",
       "      box-shadow: 0px 1px 2px rgba(60, 64, 67, 0.3), 0px 1px 3px 1px rgba(60, 64, 67, 0.15);\n",
       "      fill: #174EA6;\n",
       "    }\n",
       "\n",
       "    [theme=dark] .colab-df-convert {\n",
       "      background-color: #3B4455;\n",
       "      fill: #D2E3FC;\n",
       "    }\n",
       "\n",
       "    [theme=dark] .colab-df-convert:hover {\n",
       "      background-color: #434B5C;\n",
       "      box-shadow: 0px 1px 3px 1px rgba(0, 0, 0, 0.15);\n",
       "      filter: drop-shadow(0px 1px 2px rgba(0, 0, 0, 0.3));\n",
       "      fill: #FFFFFF;\n",
       "    }\n",
       "  </style>\n",
       "\n",
       "      <script>\n",
       "        const buttonEl =\n",
       "          document.querySelector('#df-f4a6536b-2c42-4beb-9a06-9c4933e568fc button.colab-df-convert');\n",
       "        buttonEl.style.display =\n",
       "          google.colab.kernel.accessAllowed ? 'block' : 'none';\n",
       "\n",
       "        async function convertToInteractive(key) {\n",
       "          const element = document.querySelector('#df-f4a6536b-2c42-4beb-9a06-9c4933e568fc');\n",
       "          const dataTable =\n",
       "            await google.colab.kernel.invokeFunction('convertToInteractive',\n",
       "                                                     [key], {});\n",
       "          if (!dataTable) return;\n",
       "\n",
       "          const docLinkHtml = 'Like what you see? Visit the ' +\n",
       "            '<a target=\"_blank\" href=https://colab.research.google.com/notebooks/data_table.ipynb>data table notebook</a>'\n",
       "            + ' to learn more about interactive tables.';\n",
       "          element.innerHTML = '';\n",
       "          dataTable['output_type'] = 'display_data';\n",
       "          await google.colab.output.renderOutput(dataTable, element);\n",
       "          const docLink = document.createElement('div');\n",
       "          docLink.innerHTML = docLinkHtml;\n",
       "          element.appendChild(docLink);\n",
       "        }\n",
       "      </script>\n",
       "    </div>\n",
       "  </div>\n",
       "  "
      ],
      "text/plain": [
       "            returns          beta         betasq         chmom        dolvol  \\\n",
       "count  1.285304e+06  9.864060e+05  986406.000000  1.184968e+06  1.142802e+06   \n",
       "mean   3.649240e-03 -3.395821e-08      -0.000001 -3.187073e-08 -2.443282e-07   \n",
       "std    1.371731e-01  5.779312e-01       0.577933  5.778837e-01  5.779275e-01   \n",
       "min   -9.812491e-01 -1.000000e+00      -1.000000 -1.000000e+00 -1.000000e+00   \n",
       "25%   -2.969524e-02 -5.003937e-01      -0.500380 -5.003085e-01 -5.004249e-01   \n",
       "50%    0.000000e+00  0.000000e+00       0.000000  0.000000e+00  0.000000e+00   \n",
       "75%    3.111111e-02  5.004210e-01       0.500359  5.003475e-01  5.003924e-01   \n",
       "max    1.056657e+02  1.000000e+00       1.000000  1.000000e+00  1.000000e+00   \n",
       "\n",
       "            idiovol           ill        indmom        maxret        mom12m  \\\n",
       "count  9.864060e+05  1.148128e+06  1.279314e+06  1.270146e+06  1.184968e+06   \n",
       "mean  -5.318335e-07 -1.937938e-06  1.762229e-03 -4.982460e-07 -5.370746e-07   \n",
       "std    5.779315e-01  5.779261e-01  6.167541e-01  5.778677e-01  5.778841e-01   \n",
       "min   -1.000000e+00 -1.000000e+00 -1.000000e+00 -1.000000e+00 -1.000000e+00   \n",
       "25%   -5.003776e-01 -5.003630e-01 -5.040816e-01 -5.003137e-01 -5.003257e-01   \n",
       "50%    0.000000e+00  0.000000e+00 -3.061224e-03  0.000000e+00  0.000000e+00   \n",
       "75%    5.004070e-01  5.003389e-01  5.000000e-01  5.002912e-01  5.003100e-01   \n",
       "max    1.000000e+00  1.000000e+00  1.000000e+00  1.000000e+00  1.000000e+00   \n",
       "\n",
       "              mom1m        mom36m          mvel        retvol   returns_fwd  \n",
       "count  1.278156e+06  9.846800e+05  1.281806e+06  1.278156e+06  1.285219e+06  \n",
       "mean  -6.787244e-09 -6.874396e-07 -2.435672e-07 -2.999413e-06  3.645127e-03  \n",
       "std    5.778660e-01  5.779322e-01  5.778665e-01  5.778706e-01  1.371700e-01  \n",
       "min   -1.000000e+00 -1.000000e+00 -1.000000e+00 -1.000000e+00 -9.812491e-01  \n",
       "25%   -5.003152e-01 -5.004232e-01 -5.003303e-01 -5.003434e-01 -2.969676e-02  \n",
       "50%    0.000000e+00  0.000000e+00  0.000000e+00  0.000000e+00  0.000000e+00  \n",
       "75%    5.002747e-01  5.003579e-01  5.003578e-01  5.003041e-01  3.110728e-02  \n",
       "max    1.000000e+00  1.000000e+00  1.000000e+00  1.000000e+00  1.056657e+02  "
      ]
     },
     "execution_count": 32,
     "metadata": {},
     "output_type": "execute_result"
    }
   ],
   "source": [
    "data.describe()"
   ]
  },
  {
   "cell_type": "code",
   "execution_count": 33,
   "metadata": {
    "ExecuteTime": {
     "end_time": "2021-02-24T18:54:51.653434Z",
     "start_time": "2021-02-24T18:54:50.853071Z"
    },
    "id": "y0z1LJkpRnkg"
   },
   "outputs": [],
   "source": [
    "data = data.loc[idx[:'2019', :], :]"
   ]
  },
  {
   "cell_type": "code",
   "execution_count": 34,
   "metadata": {
    "ExecuteTime": {
     "end_time": "2021-02-24T18:54:52.175796Z",
     "start_time": "2021-02-24T18:54:51.654300Z"
    },
    "id": "5H26NCg8Rnkh"
   },
   "outputs": [],
   "source": [
    "data.loc[:, ['returns', 'returns_fwd']] = data.loc[:, ['returns', 'returns_fwd']].clip(lower=-1, upper=1.0)"
   ]
  },
  {
   "cell_type": "code",
   "execution_count": 35,
   "metadata": {
    "ExecuteTime": {
     "end_time": "2021-02-24T18:54:52.551139Z",
     "start_time": "2021-02-24T18:54:52.176641Z"
    },
    "id": "8OeA6POgRnkh"
   },
   "outputs": [],
   "source": [
    "data = data.fillna(-2)"
   ]
  },
  {
   "cell_type": "code",
   "execution_count": 36,
   "metadata": {
    "ExecuteTime": {
     "end_time": "2021-02-24T18:54:53.177682Z",
     "start_time": "2021-02-24T18:54:52.551965Z"
    },
    "id": "za3mzFa9Rnkh"
   },
   "outputs": [],
   "source": [
    "data.to_hdf(results_path / 'autoencoder.h5', 'model_data')"
   ]
  },
  {
   "cell_type": "markdown",
   "metadata": {
    "id": "3mJDyDKzRnkh"
   },
   "source": [
    "## Architecture"
   ]
  },
  {
   "cell_type": "code",
   "execution_count": 37,
   "metadata": {
    "ExecuteTime": {
     "end_time": "2021-02-25T02:19:55.884348Z",
     "start_time": "2021-02-25T02:19:54.229906Z"
    },
    "id": "EV2uPXj0Rnkh"
   },
   "outputs": [],
   "source": [
    "data = pd.read_hdf(results_path / 'autoencoder.h5', 'model_data')"
   ]
  },
  {
   "cell_type": "markdown",
   "metadata": {
    "id": "wmd1bHHGRnkh"
   },
   "source": [
    "### Key parameters"
   ]
  },
  {
   "cell_type": "code",
   "execution_count": 38,
   "metadata": {
    "ExecuteTime": {
     "end_time": "2021-02-25T02:19:56.938323Z",
     "start_time": "2021-02-25T02:19:56.887604Z"
    },
    "id": "CR5oipqYRnkh"
   },
   "outputs": [],
   "source": [
    "n_factors = 3\n",
    "n_characteristics = len(characteristics)\n",
    "n_tickers = len(data.index.unique('ticker'))"
   ]
  },
  {
   "cell_type": "code",
   "execution_count": 39,
   "metadata": {
    "ExecuteTime": {
     "end_time": "2021-02-25T02:19:57.066339Z",
     "start_time": "2021-02-25T02:19:57.056425Z"
    },
    "colab": {
     "base_uri": "https://localhost:8080/"
    },
    "id": "cNked5kLRnkh",
    "outputId": "f5928b43-9b23-44ec-b51c-329217590f7f"
   },
   "outputs": [
    {
     "data": {
      "text/plain": [
       "1961"
      ]
     },
     "execution_count": 39,
     "metadata": {},
     "output_type": "execute_result"
    }
   ],
   "source": [
    "n_tickers"
   ]
  },
  {
   "cell_type": "code",
   "execution_count": 40,
   "metadata": {
    "ExecuteTime": {
     "end_time": "2021-02-25T02:19:57.769420Z",
     "start_time": "2021-02-25T02:19:57.761574Z"
    },
    "colab": {
     "base_uri": "https://localhost:8080/"
    },
    "id": "dIYWhcNORnki",
    "outputId": "af0d3e5a-3404-42d1-c100-c054ab03d2bc"
   },
   "outputs": [
    {
     "data": {
      "text/plain": [
       "13"
      ]
     },
     "execution_count": 40,
     "metadata": {},
     "output_type": "execute_result"
    }
   ],
   "source": [
    "n_characteristics"
   ]
  },
  {
   "cell_type": "markdown",
   "metadata": {
    "id": "qJOI2vmTRnki"
   },
   "source": [
    "### Input Layer"
   ]
  },
  {
   "cell_type": "code",
   "execution_count": 41,
   "metadata": {
    "ExecuteTime": {
     "end_time": "2021-02-24T18:54:54.294252Z",
     "start_time": "2021-02-24T18:54:54.279343Z"
    },
    "id": "YBxrn94NRnki"
   },
   "outputs": [],
   "source": [
    "input_beta = Input((n_tickers, n_characteristics), name='input_beta')\n",
    "input_factor = Input((n_tickers,), name='input_factor')"
   ]
  },
  {
   "cell_type": "markdown",
   "metadata": {
    "id": "K_jN4S4yRnki"
   },
   "source": [
    "### Stock Characteristics Network"
   ]
  },
  {
   "cell_type": "code",
   "execution_count": 42,
   "metadata": {
    "ExecuteTime": {
     "end_time": "2021-02-24T18:54:55.015972Z",
     "start_time": "2021-02-24T18:54:54.295081Z"
    },
    "id": "HGYe2dCERnki"
   },
   "outputs": [],
   "source": [
    "hidden_layer = Dense(units=8, activation='relu', name='hidden_layer')(input_beta)\n",
    "batch_norm = BatchNormalization(name='batch_norm')(hidden_layer)\n",
    "output_beta = Dense(units=n_factors, name='output_beta')(batch_norm)"
   ]
  },
  {
   "cell_type": "markdown",
   "metadata": {
    "id": "iOwfF0uuRnki"
   },
   "source": [
    "### Factor Network"
   ]
  },
  {
   "cell_type": "code",
   "execution_count": 43,
   "metadata": {
    "ExecuteTime": {
     "end_time": "2021-02-24T18:54:55.023022Z",
     "start_time": "2021-02-24T18:54:55.016867Z"
    },
    "id": "993DO9CIRnkj"
   },
   "outputs": [],
   "source": [
    "output_factor = Dense(units=n_factors, name='output_factor')(input_factor)"
   ]
  },
  {
   "cell_type": "markdown",
   "metadata": {
    "id": "QY0WSVCARnkj"
   },
   "source": [
    "### Output Layer"
   ]
  },
  {
   "cell_type": "code",
   "execution_count": 44,
   "metadata": {
    "ExecuteTime": {
     "end_time": "2021-02-24T18:54:55.030563Z",
     "start_time": "2021-02-24T18:54:55.024006Z"
    },
    "id": "4M8oCdYyRnkj"
   },
   "outputs": [],
   "source": [
    "output = Dot(axes=(2,1), name='output_layer')([output_beta, output_factor])"
   ]
  },
  {
   "cell_type": "markdown",
   "metadata": {
    "id": "PVymxtw5Rnkj"
   },
   "source": [
    "### Compile Layer"
   ]
  },
  {
   "cell_type": "code",
   "execution_count": 45,
   "metadata": {
    "ExecuteTime": {
     "end_time": "2021-02-24T18:54:55.044843Z",
     "start_time": "2021-02-24T18:54:55.031505Z"
    },
    "id": "TTrdqRH2Rnkj"
   },
   "outputs": [],
   "source": [
    "model = Model(inputs=[input_beta, input_factor], outputs=output)\n",
    "model.compile(loss='mse', optimizer='adam')"
   ]
  },
  {
   "cell_type": "markdown",
   "metadata": {
    "id": "OmEH1XMbRnkj"
   },
   "source": [
    "### Automate model generation"
   ]
  },
  {
   "cell_type": "code",
   "execution_count": 46,
   "metadata": {
    "ExecuteTime": {
     "end_time": "2021-02-25T02:20:24.943542Z",
     "start_time": "2021-02-25T02:20:24.940487Z"
    },
    "id": "QugIO22tRnkj"
   },
   "outputs": [],
   "source": [
    "def make_model(hidden_units=8, n_factors=3):\n",
    "    input_beta = Input((n_tickers, n_characteristics), name='input_beta')\n",
    "    input_factor = Input((n_tickers,), name='input_factor')\n",
    "\n",
    "    hidden_layer = Dense(units=hidden_units, activation='relu', name='hidden_layer')(input_beta)\n",
    "    batch_norm = BatchNormalization(name='batch_norm')(hidden_layer)\n",
    "    \n",
    "    output_beta = Dense(units=n_factors, name='output_beta')(batch_norm)\n",
    "\n",
    "    output_factor = Dense(units=n_factors, name='output_factor')(input_factor)\n",
    "\n",
    "    output = Dot(axes=(2,1), name='output_layer')([output_beta, output_factor])\n",
    "\n",
    "    model = Model(inputs=[input_beta, input_factor], outputs=output)\n",
    "    model.compile(loss='mse', optimizer='adam')\n",
    "    return model"
   ]
  },
  {
   "cell_type": "markdown",
   "metadata": {
    "id": "h_tRYjz6Rnkj"
   },
   "source": [
    "### Model Summary"
   ]
  },
  {
   "cell_type": "code",
   "execution_count": 47,
   "metadata": {
    "ExecuteTime": {
     "end_time": "2021-02-24T18:54:55.060992Z",
     "start_time": "2021-02-24T18:54:55.051617Z"
    },
    "colab": {
     "base_uri": "https://localhost:8080/"
    },
    "id": "CCIojuhrRnkj",
    "outputId": "6ee57d32-3f58-4184-be2a-e6530e9d8b52"
   },
   "outputs": [
    {
     "name": "stdout",
     "output_type": "stream",
     "text": [
      "Model: \"model\"\n",
      "__________________________________________________________________________________________________\n",
      " Layer (type)                   Output Shape         Param #     Connected to                     \n",
      "==================================================================================================\n",
      " input_beta (InputLayer)        [(None, 1961, 13)]   0           []                               \n",
      "                                                                                                  \n",
      " hidden_layer (Dense)           (None, 1961, 8)      112         ['input_beta[0][0]']             \n",
      "                                                                                                  \n",
      " batch_norm (BatchNormalization  (None, 1961, 8)     32          ['hidden_layer[0][0]']           \n",
      " )                                                                                                \n",
      "                                                                                                  \n",
      " input_factor (InputLayer)      [(None, 1961)]       0           []                               \n",
      "                                                                                                  \n",
      " output_beta (Dense)            (None, 1961, 3)      27          ['batch_norm[0][0]']             \n",
      "                                                                                                  \n",
      " output_factor (Dense)          (None, 3)            5886        ['input_factor[0][0]']           \n",
      "                                                                                                  \n",
      " output_layer (Dot)             (None, 1961)         0           ['output_beta[0][0]',            \n",
      "                                                                  'output_factor[0][0]']          \n",
      "                                                                                                  \n",
      "==================================================================================================\n",
      "Total params: 6,057\n",
      "Trainable params: 6,041\n",
      "Non-trainable params: 16\n",
      "__________________________________________________________________________________________________\n"
     ]
    }
   ],
   "source": [
    "model.summary()"
   ]
  },
  {
   "cell_type": "markdown",
   "metadata": {
    "id": "9GiUiH6WRnkk"
   },
   "source": [
    "## Train Model"
   ]
  },
  {
   "cell_type": "markdown",
   "metadata": {
    "id": "cjBl2gz-Rnkk"
   },
   "source": [
    "### Cross-validation parameters"
   ]
  },
  {
   "cell_type": "code",
   "execution_count": 20,
   "metadata": {
    "ExecuteTime": {
     "end_time": "2021-02-25T02:20:29.903066Z",
     "start_time": "2021-02-25T02:20:29.897417Z"
    },
    "id": "G-MDXBmcRnkk"
   },
   "outputs": [],
   "source": [
    "YEAR = 52"
   ]
  },
  {
   "cell_type": "markdown",
   "metadata": {
    "id": "SV0Gx1P9Rnkk"
   },
   "source": [
    "# kjp: changed `20*YEAR` to `train_yrs*YEAR` below\n",
    "- there are **claimed** to be only 20 years worth of data\n",
    "    - code below shows much less\n",
    "    - due to cell above where data was truncated to year 2019\n",
    "    \n",
    "      `data = data.loc[idx[:'2019', :], :]`\n",
    "- can't have train data of 20 years + test data of 1 year\n",
    "- examine how MultipleTimeSeriesCV split data to determine best value to get 5 folds"
   ]
  },
  {
   "cell_type": "code",
   "execution_count": 49,
   "metadata": {
    "colab": {
     "base_uri": "https://localhost:8080/"
    },
    "id": "FjszCLNiRnkk",
    "outputId": "9c6fb26a-f01d-4137-b5ee-dda2d661f548"
   },
   "outputs": [
    {
     "name": "stdout",
     "output_type": "stream",
     "text": [
      "Number of rows: 2043362\n",
      "Num. unique tickers 1961\n",
      "Num. unique dates 1042\n",
      "\tmin date: 2000-01-14 00:00:00 , max date: 2019-12-27 00:00:00\n"
     ]
    }
   ],
   "source": [
    "print(f\"Number of rows: {data.shape[0]}\")\n",
    "print(f\"Num. unique tickers {data.index.get_level_values(1).unique().shape[0]}\")\n",
    "print(f\"Num. unique dates {data.index.get_level_values(0).unique().shape[0]}\")\n",
    "print(f\"\\tmin date: {data.index.get_level_values(0).min()} , max date: {data.index.get_level_values(0).max()}\")\n"
   ]
  },
  {
   "cell_type": "code",
   "execution_count": 21,
   "metadata": {
    "ExecuteTime": {
     "end_time": "2021-02-25T02:20:30.091049Z",
     "start_time": "2021-02-25T02:20:30.086342Z"
    },
    "colab": {
     "base_uri": "https://localhost:8080/"
    },
    "id": "AG70gEuHRnkk",
    "outputId": "5b40759f-bd27-438d-b3f4-2cbfb65088f1"
   },
   "outputs": [
    {
     "name": "stdout",
     "output_type": "stream",
     "text": [
      "Using 5 years of data for training fold.\n"
     ]
    }
   ],
   "source": [
    "# kjp: original code was constant 20 years\n",
    "#      we calculate it based on data size\n",
    "data_num_rows = data.shape[0]\n",
    "data_num_tickers = data.index.get_level_values(1).unique().shape[0]\n",
    "dates_per_ticker = data_num_rows/data_num_tickers\n",
    "yrs_per_ticker   = round(dates_per_ticker/252 + 0.5)\n",
    "\n",
    "train_yrs = yrs_per_ticker\n",
    "\n",
    "print(f\"Using {train_yrs} years of data for training fold.\")\n",
    "\n",
    "cv = MultipleTimeSeriesCV(n_splits=5, \n",
    "                          train_period_length=train_yrs*YEAR,\n",
    "                          test_period_length=1*YEAR,\n",
    "                          lookahead=1)"
   ]
  },
  {
   "cell_type": "markdown",
   "metadata": {
    "id": "FIHXwkJXRnkl"
   },
   "source": [
    "# kjp: examine how folds are created by above MultipleTImeSeriesCV"
   ]
  },
  {
   "cell_type": "code",
   "execution_count": 51,
   "metadata": {
    "colab": {
     "base_uri": "https://localhost:8080/"
    },
    "id": "fF3yPdvFRnkl",
    "outputId": "1bfff994-03ab-4de3-c0e0-2cb8ec12132a"
   },
   "outputs": [
    {
     "name": "stdout",
     "output_type": "stream",
     "text": [
      "Index of rows in each fold:\n",
      "\n",
      "Fold 0, train idxs: 1431530:1941389 len 509860; val idxs: 1941390:2043361 len 101972\n",
      "\ttrain: 2014-01-10 00:00:00: 2018-12-28 00:00:00\n",
      "\tval  : 2019-01-04 00:00:00: 2019-12-27 00:00:00\n",
      "Fold 1, train idxs: 1329558:1839417 len 509860; val idxs: 1839418:1941389 len 101972\n",
      "\ttrain: 2013-01-11 00:00:00: 2017-12-29 00:00:00\n",
      "\tval  : 2018-01-05 00:00:00: 2018-12-28 00:00:00\n",
      "Fold 2, train idxs: 1227586:1737445 len 509860; val idxs: 1737446:1839417 len 101972\n",
      "\ttrain: 2012-01-13 00:00:00: 2016-12-30 00:00:00\n",
      "\tval  : 2017-01-06 00:00:00: 2017-12-29 00:00:00\n",
      "Fold 3, train idxs: 1125614:1635473 len 509860; val idxs: 1635474:1737445 len 101972\n",
      "\ttrain: 2011-01-14 00:00:00: 2016-01-01 00:00:00\n",
      "\tval  : 2016-01-08 00:00:00: 2016-12-30 00:00:00\n",
      "Fold 4, train idxs: 1023642:1533501 len 509860; val idxs: 1533502:1635473 len 101972\n",
      "\ttrain: 2010-01-15 00:00:00: 2015-01-02 00:00:00\n",
      "\tval  : 2015-01-09 00:00:00: 2016-01-01 00:00:00\n"
     ]
    }
   ],
   "source": [
    "print(\"Index of rows in each fold:\\n\")\n",
    "\n",
    "for fold, (train_idx, val_idx) in enumerate(cv.split(data)):\n",
    "    train_start_idx, train_end_idx = train_idx[0], train_idx[-1]\n",
    "    val_start_idx, val_end_idx = val_idx[0], val_idx[-1]\n",
    "    \n",
    "    train_len = (train_end_idx - train_start_idx +1)\n",
    "    val_len   = (val_end_idx   - val_start_idx + 1)\n",
    "    print(f\"Fold {fold}, train idxs: {train_start_idx}:{train_end_idx} len {train_len}; val idxs: {val_start_idx}:{val_end_idx} len {val_len}\")\n",
    "    print(f\"\\ttrain: {data.iloc[train_idx].index.get_level_values(0).min()}: {data.iloc[train_idx].index.get_level_values(0).max()}\")\n",
    "    print(f\"\\tval  : {data.iloc[val_idx].index.get_level_values(0).min()}: {data.iloc[val_idx].index.get_level_values(0).max()}\")"
   ]
  },
  {
   "cell_type": "code",
   "execution_count": 52,
   "metadata": {
    "ExecuteTime": {
     "end_time": "2021-02-25T02:20:30.241815Z",
     "start_time": "2021-02-25T02:20:30.232493Z"
    },
    "id": "fv4fz9YfRnkl"
   },
   "outputs": [],
   "source": [
    "def get_train_valid_data(data, train_idx, val_idx):\n",
    "    train, val = data.iloc[train_idx], data.iloc[val_idx]\n",
    "    X1_train = train.loc[:, characteristics].values.reshape(-1, n_tickers, n_characteristics)\n",
    "    X1_val = val.loc[:, characteristics].values.reshape(-1, n_tickers, n_characteristics)\n",
    "    X2_train = train.loc[:, 'returns'].unstack('ticker')\n",
    "    X2_val = val.loc[:, 'returns'].unstack('ticker')\n",
    "    y_train = train.returns_fwd.unstack('ticker')\n",
    "    y_val = val.returns_fwd.unstack('ticker')\n",
    "    return X1_train, X2_train, y_train, X1_val, X2_val, y_val"
   ]
  },
  {
   "cell_type": "markdown",
   "metadata": {
    "id": "5nLt0ulURnkl"
   },
   "source": [
    "### Hyperparameter Options"
   ]
  },
  {
   "cell_type": "code",
   "execution_count": 53,
   "metadata": {
    "ExecuteTime": {
     "end_time": "2021-02-25T02:20:33.307625Z",
     "start_time": "2021-02-25T02:20:33.301301Z"
    },
    "id": "Q6gI2VqgRnkl"
   },
   "outputs": [],
   "source": [
    "factor_opts = [2, 3, 4, 5, 6]\n",
    "unit_opts = [8, 16, 32]"
   ]
  },
  {
   "cell_type": "code",
   "execution_count": 54,
   "metadata": {
    "ExecuteTime": {
     "end_time": "2021-02-25T02:20:33.390923Z",
     "start_time": "2021-02-25T02:20:33.389108Z"
    },
    "id": "tE1X70r3Rnkl"
   },
   "outputs": [],
   "source": [
    "param_grid = list(product(unit_opts, factor_opts))"
   ]
  },
  {
   "cell_type": "markdown",
   "metadata": {
    "id": "U1C7fjO-Rnkl"
   },
   "source": [
    "### Run Cross-Validation"
   ]
  },
  {
   "cell_type": "code",
   "execution_count": 55,
   "metadata": {
    "ExecuteTime": {
     "end_time": "2021-02-24T18:54:55.113516Z",
     "start_time": "2021-02-24T18:54:55.104687Z"
    },
    "id": "vVt2EarURnkl"
   },
   "outputs": [],
   "source": [
    "batch_size = 32"
   ]
  },
  {
   "cell_type": "code",
   "execution_count": 56,
   "metadata": {
    "ExecuteTime": {
     "end_time": "2021-02-24T18:54:55.121852Z",
     "start_time": "2021-02-24T18:54:55.114344Z"
    },
    "id": "nNvT2OXQRnkm"
   },
   "outputs": [],
   "source": [
    "cols = ['units', 'n_factors', 'fold', 'epoch', 'ic_mean', \n",
    "        'ic_daily_mean', 'ic_daily_std', 'ic_daily_median']"
   ]
  },
  {
   "cell_type": "code",
   "execution_count": null,
   "metadata": {
    "ExecuteTime": {
     "end_time": "2021-02-24T21:42:03.285087Z",
     "start_time": "2021-02-24T18:54:55.123067Z"
    },
    "colab": {
     "base_uri": "https://localhost:8080/"
    },
    "id": "wmoFpUIIRnkm",
    "outputId": "278ccb4f-4d46-4cf1-f889-bf4472fe025c",
    "scrolled": false
   },
   "outputs": [
    {
     "name": "stdout",
     "output_type": "stream",
     "text": [
      "00:00:03 | 2 | 08 | 00-000 | -7.76% | -5.38% | -5.69%\n",
      "00:00:41 | 2 | 08 | 00-050 | -0.91% | -0.69% | -0.14%\n",
      "00:01:15 | 2 | 08 | 00-100 | -0.29% | -0.66% | -0.15%\n",
      "00:01:51 | 2 | 08 | 00-150 |  0.57% | -0.74% | -0.47%\n",
      "00:02:26 | 2 | 08 | 00-200 |  3.78% | -1.26% | -0.08%\n",
      "00:03:01 | 2 | 08 | 01-000 |  7.96% |  0.14% |  1.17%\n",
      "00:03:34 | 2 | 08 | 01-050 |  3.64% |  1.97% |  2.19%\n",
      "00:04:08 | 2 | 08 | 01-100 |  1.92% | -0.15% |  0.69%\n",
      "00:04:45 | 2 | 08 | 01-150 |  4.10% |  0.68% |  2.04%\n",
      "00:05:26 | 2 | 08 | 01-200 |  4.23% |  0.51% |  1.28%\n",
      "00:06:01 | 2 | 08 | 02-000 |  4.52% |  0.65% |  1.09%\n",
      "00:06:37 | 2 | 08 | 02-050 |  2.43% | -0.05% | -0.25%\n",
      "00:07:12 | 2 | 08 | 02-100 |  1.44% | -0.91% |  0.60%\n",
      "00:07:46 | 2 | 08 | 02-150 |  0.43% |  0.23% |  0.76%\n",
      "00:08:20 | 2 | 08 | 02-200 |  1.69% | -0.15% | -1.26%\n",
      "00:08:55 | 2 | 08 | 03-000 |  4.70% |  1.42% |  1.00%\n",
      "00:09:29 | 2 | 08 | 03-050 |  0.55% |  0.87% |  0.53%\n",
      "00:10:02 | 2 | 08 | 03-100 |  4.64% |  1.89% |  0.28%\n",
      "00:10:37 | 2 | 08 | 03-150 | 13.60% |  5.38% |  5.37%\n",
      "00:11:11 | 2 | 08 | 03-200 |  6.79% |  2.48% |  3.33%\n",
      "00:11:45 | 2 | 08 | 04-000 |  4.24% | -0.67% | -1.93%\n",
      "00:12:18 | 2 | 08 | 04-050 |  6.84% |  1.84% |  2.25%\n",
      "00:12:53 | 2 | 08 | 04-100 | 15.95% |  3.21% |  1.92%\n",
      "00:13:26 | 2 | 08 | 04-150 | 17.20% |  5.48% |  3.58%\n",
      "00:13:59 | 2 | 08 | 04-200 |  8.04% |  0.45% | -0.13%\n",
      "00:14:35 | 3 | 08 | 00-000 |  5.53% |  5.21% |  6.00%\n",
      "00:15:10 | 3 | 08 | 00-050 | -2.05% | -3.12% | -2.96%\n",
      "00:15:43 | 3 | 08 | 00-100 | -2.42% | -3.53% | -3.48%\n",
      "00:16:18 | 3 | 08 | 00-150 | -1.73% | -2.57% | -2.42%\n",
      "00:16:52 | 3 | 08 | 00-200 | -1.29% | -1.88% | -1.71%\n",
      "00:17:27 | 3 | 08 | 01-000 |  2.03% |  0.09% |  0.43%\n",
      "00:18:01 | 3 | 08 | 01-050 |  5.41% |  3.96% |  4.50%\n",
      "00:18:36 | 3 | 08 | 01-100 |  4.69% |  2.41% |  2.11%\n",
      "00:19:10 | 3 | 08 | 01-150 |  4.71% |  1.86% |  2.10%\n",
      "00:19:46 | 3 | 08 | 01-200 |  3.50% |  2.48% |  2.19%\n",
      "00:20:19 | 3 | 08 | 02-000 |  1.63% |  0.69% |  2.02%\n",
      "00:20:55 | 3 | 08 | 02-050 |  3.31% |  1.18% |  1.08%\n",
      "00:21:28 | 3 | 08 | 02-100 | -0.72% | -2.26% | -2.56%\n",
      "00:22:03 | 3 | 08 | 02-150 |  1.12% | -0.22% | -1.11%\n",
      "00:22:37 | 3 | 08 | 02-200 |  3.09% |  2.29% |  2.26%\n",
      "00:23:13 | 3 | 08 | 03-000 |  6.70% |  3.86% |  4.44%\n",
      "00:23:45 | 3 | 08 | 03-050 |  6.59% |  2.06% |  1.67%\n",
      "00:24:20 | 3 | 08 | 03-100 |  4.14% | -1.07% | -2.02%\n",
      "00:24:54 | 3 | 08 | 03-150 |  9.34% |  5.77% |  5.23%\n",
      "00:25:30 | 3 | 08 | 03-200 |  3.01% |  2.51% |  2.03%\n",
      "00:26:03 | 3 | 08 | 04-000 |  6.60% |  4.36% |  5.73%\n",
      "00:26:37 | 3 | 08 | 04-050 | 15.93% |  6.49% |  7.62%\n",
      "00:27:11 | 3 | 08 | 04-100 |  6.31% |  1.54% | -0.06%\n",
      "00:27:47 | 3 | 08 | 04-150 |  5.34% |  0.61% | -0.86%\n",
      "00:28:20 | 3 | 08 | 04-200 |  6.98% | -0.62% | -1.07%\n",
      "00:28:57 | 4 | 08 | 00-000 |  0.98% |  0.13% | -0.04%\n",
      "00:29:31 | 4 | 08 | 00-050 | -1.60% | -0.67% |  0.21%\n",
      "00:30:05 | 4 | 08 | 00-100 | -1.88% | -0.61% | -0.14%\n",
      "00:30:38 | 4 | 08 | 00-150 | -1.66% | -0.23% | -0.10%\n",
      "00:31:14 | 4 | 08 | 00-200 | -1.78% |  0.12% |  0.01%\n",
      "00:31:47 | 4 | 08 | 01-000 | -0.10% |  1.31% | -0.23%\n",
      "00:32:22 | 4 | 08 | 01-050 |  1.63% |  2.67% |  2.97%\n",
      "00:32:55 | 4 | 08 | 01-100 |  2.79% |  3.00% |  3.29%\n",
      "00:33:31 | 4 | 08 | 01-150 |  2.54% |  2.42% |  2.76%\n",
      "00:34:04 | 4 | 08 | 01-200 |  2.68% |  3.08% |  3.64%\n",
      "00:34:39 | 4 | 08 | 02-000 |  3.01% | -0.71% | -0.68%\n",
      "00:35:12 | 4 | 08 | 02-050 |  3.52% |  1.98% |  1.78%\n",
      "00:35:47 | 4 | 08 | 02-100 |  5.66% |  2.20% |  1.99%\n",
      "00:36:20 | 4 | 08 | 02-150 | -0.08% |  1.43% |  1.68%\n",
      "00:36:55 | 4 | 08 | 02-200 | -0.16% | -0.47% | -0.64%\n",
      "00:37:32 | 4 | 08 | 03-000 |  6.35% |  1.25% |  0.58%\n",
      "00:38:06 | 4 | 08 | 03-050 |  4.14% |  2.40% |  2.24%\n",
      "00:38:39 | 4 | 08 | 03-100 | 14.24% |  3.91% |  2.49%\n",
      "00:39:13 | 4 | 08 | 03-150 | 10.75% |  2.17% |  0.87%\n",
      "00:39:47 | 4 | 08 | 03-200 |  7.91% |  0.91% | -0.27%\n",
      "00:40:22 | 4 | 08 | 04-000 | 11.35% | -0.56% | -0.69%\n",
      "00:40:55 | 4 | 08 | 04-050 | 13.76% |  2.57% |  2.10%\n",
      "00:41:30 | 4 | 08 | 04-100 | 14.55% |  3.00% |  3.99%\n",
      "00:42:04 | 4 | 08 | 04-150 | 15.26% |  2.65% |  1.20%\n",
      "00:42:39 | 4 | 08 | 04-200 | 18.99% |  2.51% |  1.73%\n",
      "00:43:13 | 5 | 08 | 00-000 | -3.44% | -4.12% | -4.70%\n",
      "00:43:49 | 5 | 08 | 00-050 | -2.59% | -3.32% | -3.69%\n",
      "00:44:22 | 5 | 08 | 00-100 | -2.09% | -2.83% | -3.20%\n",
      "00:44:57 | 5 | 08 | 00-150 | -2.14% | -3.01% | -3.34%\n",
      "00:45:32 | 5 | 08 | 00-200 | -1.92% | -2.53% | -2.84%\n",
      "00:46:07 | 5 | 08 | 01-000 |  4.17% |  1.70% |  2.02%\n",
      "00:46:40 | 5 | 08 | 01-050 |  4.14% |  1.53% |  1.02%\n",
      "00:47:14 | 5 | 08 | 01-100 |  5.09% |  1.89% |  2.55%\n",
      "00:47:48 | 5 | 08 | 01-150 |  6.90% |  3.18% |  3.09%\n",
      "00:48:22 | 5 | 08 | 01-200 |  5.98% |  2.38% |  1.69%\n",
      "00:48:55 | 5 | 08 | 02-000 |  8.24% |  1.05% |  0.37%\n",
      "00:49:30 | 5 | 08 | 02-050 |  5.90% |  2.08% |  2.90%\n",
      "00:50:04 | 5 | 08 | 02-100 |  2.80% | -0.01% | -1.00%\n",
      "00:50:39 | 5 | 08 | 02-150 |  3.52% |  0.19% |  0.03%\n",
      "00:51:12 | 5 | 08 | 02-200 |  2.79% |  0.94% |  0.92%\n",
      "00:51:48 | 5 | 08 | 03-000 |  4.91% |  1.44% |  1.58%\n",
      "00:52:21 | 5 | 08 | 03-050 | 14.25% |  1.80% |  3.05%\n",
      "00:52:57 | 5 | 08 | 03-100 | 12.86% |  0.13% |  0.26%\n",
      "00:53:31 | 5 | 08 | 03-150 |  7.51% | -0.02% | -0.63%\n",
      "00:54:07 | 5 | 08 | 03-200 | 13.53% |  1.38% |  1.86%\n",
      "00:54:41 | 5 | 08 | 04-000 | 22.36% |  6.57% |  5.72%\n",
      "00:55:15 | 5 | 08 | 04-050 | 18.78% |  5.18% |  4.56%\n",
      "00:55:50 | 5 | 08 | 04-100 | 29.79% |  6.64% |  3.91%\n",
      "00:56:25 | 5 | 08 | 04-150 | 16.25% |  5.21% |  3.66%\n",
      "00:56:58 | 5 | 08 | 04-200 |  9.98% |  3.40% |  2.25%\n",
      "00:57:35 | 6 | 08 | 00-000 |  0.76% |  1.83% |  1.74%\n",
      "00:58:11 | 6 | 08 | 00-050 |  4.12% |  1.78% |  2.22%\n",
      "00:58:45 | 6 | 08 | 00-100 |  3.96% |  2.31% |  2.92%\n",
      "00:59:20 | 6 | 08 | 00-150 |  4.29% |  2.30% |  3.07%\n",
      "00:59:54 | 6 | 08 | 00-200 |  4.57% |  2.55% |  2.81%\n",
      "01:00:29 | 6 | 08 | 01-000 |  7.86% |  2.14% |  3.06%\n",
      "01:01:02 | 6 | 08 | 01-050 |  7.53% |  3.66% |  4.02%\n",
      "01:01:37 | 6 | 08 | 01-100 |  6.21% |  2.20% |  1.41%\n",
      "01:02:12 | 6 | 08 | 01-150 |  5.65% |  2.93% |  2.24%\n",
      "01:02:49 | 6 | 08 | 01-200 |  5.75% |  2.95% |  3.89%\n",
      "01:03:22 | 6 | 08 | 02-000 |  2.34% | -0.15% | -0.54%\n",
      "01:03:57 | 6 | 08 | 02-050 |  7.44% |  1.78% |  2.02%\n",
      "01:04:32 | 6 | 08 | 02-100 |  4.53% |  0.34% |  0.84%\n",
      "01:05:06 | 6 | 08 | 02-150 |  6.95% |  1.63% |  2.50%\n",
      "01:05:39 | 6 | 08 | 02-200 |  5.38% |  1.37% |  0.67%\n",
      "01:06:14 | 6 | 08 | 03-000 | 22.52% |  7.32% |  7.28%\n",
      "01:06:49 | 6 | 08 | 03-050 | 23.97% |  7.77% |  6.55%\n",
      "01:07:23 | 6 | 08 | 03-100 | 19.79% |  4.86% |  3.19%\n",
      "01:07:56 | 6 | 08 | 03-150 | 17.98% |  6.64% |  5.75%\n",
      "01:08:32 | 6 | 08 | 03-200 | 28.54% |  8.08% |  7.04%\n",
      "01:09:06 | 6 | 08 | 04-000 | 23.41% |  7.79% |  4.64%\n",
      "01:09:40 | 6 | 08 | 04-050 | 17.25% |  4.93% |  3.88%\n",
      "01:10:13 | 6 | 08 | 04-100 | 25.20% |  8.49% |  6.56%\n",
      "01:10:49 | 6 | 08 | 04-150 | 12.60% |  3.91% |  2.20%\n",
      "01:11:23 | 6 | 08 | 04-200 | 20.10% |  6.45% |  5.09%\n",
      "01:11:58 | 2 | 16 | 00-000 | -0.52% |  1.69% |  2.65%\n",
      "01:12:41 | 2 | 16 | 00-050 | -2.22% | -2.16% | -2.14%\n",
      "01:13:21 | 2 | 16 | 00-100 | -1.41% | -1.47% | -1.92%\n",
      "01:14:05 | 2 | 16 | 00-150 | -0.27% | -0.50% | -0.34%\n",
      "01:14:49 | 2 | 16 | 00-200 |  0.70% |  0.61% |  0.37%\n",
      "01:15:31 | 2 | 16 | 01-000 |  0.63% |  1.02% |  1.70%\n",
      "01:16:10 | 2 | 16 | 01-050 |  0.19% | -0.13% | -0.04%\n",
      "01:16:50 | 2 | 16 | 01-100 | -0.38% | -1.04% | -1.38%\n",
      "01:17:33 | 2 | 16 | 01-150 | -1.14% | -1.60% | -1.79%\n",
      "01:18:14 | 2 | 16 | 01-200 | -1.90% | -2.00% | -2.32%\n",
      "01:18:57 | 2 | 16 | 02-000 |  2.29% |  1.61% |  1.36%\n",
      "01:19:42 | 2 | 16 | 02-050 |  0.51% | -0.13% |  0.64%\n",
      "01:20:25 | 2 | 16 | 02-100 |  1.80% |  1.34% |  0.94%\n",
      "01:21:08 | 2 | 16 | 02-150 |  2.44% |  1.49% |  1.04%\n",
      "01:21:51 | 2 | 16 | 02-200 | -1.23% | -1.26% | -1.54%\n",
      "01:22:33 | 2 | 16 | 03-000 |  5.56% |  2.33% |  2.79%\n",
      "01:23:15 | 2 | 16 | 03-050 |  8.70% | -0.50% |  0.23%\n",
      "01:23:56 | 2 | 16 | 03-100 | 17.59% |  2.23% |  1.72%\n",
      "01:24:40 | 2 | 16 | 03-150 |  9.48% |  2.65% |  2.57%\n",
      "01:25:25 | 2 | 16 | 03-200 | 11.74% |  2.88% |  3.51%\n",
      "01:26:09 | 2 | 16 | 04-000 |  3.94% |  2.63% |  1.84%\n",
      "01:26:50 | 2 | 16 | 04-050 |  5.69% |  0.49% |  0.01%\n",
      "01:27:30 | 2 | 16 | 04-100 | -0.23% |  1.50% |  0.97%\n",
      "01:28:13 | 2 | 16 | 04-150 |  7.52% |  1.61% |  0.90%\n",
      "01:28:55 | 2 | 16 | 04-200 |  3.83% | -0.33% | -0.86%\n",
      "01:29:39 | 3 | 16 | 00-000 |  1.52% |  1.64% |  1.53%\n",
      "01:30:21 | 3 | 16 | 00-050 | -0.41% | -0.70% | -0.71%\n",
      "01:31:03 | 3 | 16 | 00-100 | -0.88% | -1.19% | -1.10%\n",
      "01:31:44 | 3 | 16 | 00-150 | -1.56% | -1.59% | -1.44%\n",
      "01:32:26 | 3 | 16 | 00-200 | -1.69% | -0.53% |  0.00%\n",
      "01:33:11 | 3 | 16 | 01-000 |  5.88% |  2.43% |  2.27%\n",
      "01:33:56 | 3 | 16 | 01-050 |  5.44% |  1.48% |  1.39%\n",
      "01:34:36 | 3 | 16 | 01-100 |  6.45% |  1.31% |  1.27%\n",
      "01:35:18 | 3 | 16 | 01-150 |  7.67% |  1.45% |  1.73%\n",
      "01:36:00 | 3 | 16 | 01-200 |  6.68% |  1.03% |  1.52%\n",
      "01:36:43 | 3 | 16 | 02-000 |  4.36% |  1.86% |  2.75%\n",
      "01:37:25 | 3 | 16 | 02-050 |  3.73% |  1.49% |  1.63%\n",
      "01:38:08 | 3 | 16 | 02-100 |  1.24% | -0.40% | -0.74%\n",
      "01:38:50 | 3 | 16 | 02-150 |  4.11% |  1.08% |  0.92%\n",
      "01:39:32 | 3 | 16 | 02-200 |  3.39% |  2.19% |  2.09%\n",
      "01:40:15 | 3 | 16 | 03-000 | 10.04% |  3.59% |  3.27%\n",
      "01:40:58 | 3 | 16 | 03-050 |  3.98% |  2.05% |  1.80%\n",
      "01:41:38 | 3 | 16 | 03-100 |  8.49% |  4.41% |  4.22%\n",
      "01:42:20 | 3 | 16 | 03-150 | 10.63% |  2.62% |  0.76%\n",
      "01:43:03 | 3 | 16 | 03-200 |  9.48% |  4.15% |  3.39%\n",
      "01:43:45 | 3 | 16 | 04-000 |  0.88% |  3.26% |  3.65%\n",
      "01:44:28 | 3 | 16 | 04-050 | 12.31% |  2.99% |  2.84%\n",
      "01:45:08 | 3 | 16 | 04-100 | 13.80% |  4.88% |  3.39%\n",
      "01:45:50 | 3 | 16 | 04-150 | -0.03% | -0.41% | -0.79%\n",
      "01:46:31 | 3 | 16 | 04-200 | 11.38% |  2.54% |  2.21%\n",
      "01:47:16 | 4 | 16 | 00-000 |  0.68% |  2.08% |  2.62%\n",
      "01:47:60 | 4 | 16 | 00-050 | -1.03% | -1.04% | -1.75%\n",
      "01:48:40 | 4 | 16 | 00-100 | -1.50% | -1.54% | -0.90%\n",
      "01:49:22 | 4 | 16 | 00-150 | -2.08% | -1.88% | -0.89%\n",
      "01:50:05 | 4 | 16 | 00-200 | -2.32% | -2.13% | -1.25%\n",
      "01:50:51 | 4 | 16 | 01-000 |  3.38% |  2.69% |  2.57%\n",
      "01:51:34 | 4 | 16 | 01-050 |  4.26% |  2.03% |  1.48%\n",
      "01:52:14 | 4 | 16 | 01-100 |  5.24% |  2.60% |  2.58%\n",
      "01:52:59 | 4 | 16 | 01-150 |  4.86% |  2.06% |  2.42%\n",
      "01:53:41 | 4 | 16 | 01-200 |  4.80% |  2.94% |  2.84%\n",
      "01:54:23 | 4 | 16 | 02-000 |  2.35% |  0.69% |  1.90%\n",
      "01:55:04 | 4 | 16 | 02-050 |  2.71% |  1.58% |  1.91%\n",
      "01:55:49 | 4 | 16 | 02-100 |  3.46% |  2.03% |  2.73%\n",
      "01:56:30 | 4 | 16 | 02-150 |  1.62% |  0.45% |  0.56%\n",
      "01:57:13 | 4 | 16 | 02-200 |  2.99% |  0.81% |  0.79%\n",
      "01:57:56 | 4 | 16 | 03-000 |  2.33% | -0.25% | -0.99%\n",
      "01:58:40 | 4 | 16 | 03-050 |  8.09% |  2.08% |  1.04%\n",
      "01:59:23 | 4 | 16 | 03-100 |  9.87% |  1.62% |  1.43%\n",
      "02:00:05 | 4 | 16 | 03-150 |  4.70% |  0.64% | -0.63%\n",
      "02:00:49 | 4 | 16 | 03-200 |  4.83% |  1.41% |  1.56%\n",
      "02:01:31 | 4 | 16 | 04-000 |  6.41% |  2.18% |  1.27%\n",
      "02:02:12 | 4 | 16 | 04-050 | 14.95% |  4.35% |  2.95%\n",
      "02:02:53 | 4 | 16 | 04-100 | 12.91% |  4.62% |  4.00%\n",
      "02:03:37 | 4 | 16 | 04-150 |  9.94% |  3.15% |  2.51%\n",
      "02:04:18 | 4 | 16 | 04-200 |  4.83% |  0.97% |  1.17%\n",
      "02:04:60 | 5 | 16 | 00-000 |  3.45% |  1.70% |  1.11%\n",
      "02:05:44 | 5 | 16 | 00-050 | -0.31% |  0.81% |  1.95%\n",
      "02:06:26 | 5 | 16 | 00-100 | -2.06% | -0.80% |  0.36%\n",
      "02:07:09 | 5 | 16 | 00-150 | -1.44% | -0.31% |  0.52%\n"
     ]
    }
   ],
   "source": [
    "start = time()\n",
    "for units, n_factors in param_grid:\n",
    "    scores = []\n",
    "    model = make_model(hidden_units=units, n_factors=n_factors)\n",
    "    for fold, (train_idx, val_idx) in enumerate(cv.split(data)):\n",
    "        X1_train, X2_train, y_train, X1_val, X2_val, y_val = get_train_valid_data(data,\n",
    "                                                                                  train_idx,\n",
    "                                                                                  val_idx)\n",
    "        for epoch in range(250):\n",
    "            model.fit([X1_train, X2_train], y_train,\n",
    "                      batch_size=batch_size,\n",
    "                      validation_data=([X1_val, X2_val], y_val),\n",
    "                      epochs=epoch + 1,\n",
    "                      initial_epoch=epoch,\n",
    "                      verbose=0, shuffle=True)\n",
    "            result = (pd.DataFrame({'y_pred': model.predict([X1_val,\n",
    "                                                             X2_val],\n",
    "                                                            verbose=0).reshape(-1),\n",
    "                                    'y_true': y_val.stack().values},\n",
    "                                   index=y_val.stack().index)\n",
    "                      .replace(-2, np.nan).dropna())\n",
    "            r0 = spearmanr(result.y_true, result.y_pred)[0]\n",
    "            r1 = result.groupby(level='date').apply(lambda x: spearmanr(x.y_pred,\n",
    "                                                                        x.y_true)[0])\n",
    "\n",
    "            scores.append([units, n_factors, fold, epoch, r0,\n",
    "                           r1.mean(), r1.std(), r1.median()])\n",
    "            if epoch % 50 == 0:\n",
    "                print(f'{format_time(time()-start)} | {n_factors} | {units:02} | {fold:02}-{epoch:03} | {r0:6.2%} | '\n",
    "                  f'{r1.mean():6.2%} | {r1.median():6.2%}')            \n",
    "    scores = pd.DataFrame(scores, columns=cols)\n",
    "    scores.to_hdf(results_path / 'scores.h5', f'{units}/{n_factors}')"
   ]
  },
  {
   "cell_type": "markdown",
   "metadata": {
    "id": "UxF3rRvyRnkm"
   },
   "source": [
    "### Evaluate Results"
   ]
  },
  {
   "cell_type": "code",
   "execution_count": 10,
   "metadata": {
    "ExecuteTime": {
     "end_time": "2021-02-25T01:24:37.645031Z",
     "start_time": "2021-02-25T01:24:37.472670Z"
    },
    "id": "9D8AeD0LRnkm"
   },
   "outputs": [],
   "source": [
    "scores = []\n",
    "with pd.HDFStore(results_path / 'scores.h5') as store:\n",
    "    for key in store.keys():\n",
    "        scores.append(store[key])\n",
    "scores = pd.concat(scores)"
   ]
  },
  {
   "cell_type": "code",
   "execution_count": 11,
   "metadata": {
    "ExecuteTime": {
     "end_time": "2021-02-25T01:24:38.690579Z",
     "start_time": "2021-02-25T01:24:38.680750Z"
    },
    "colab": {
     "base_uri": "https://localhost:8080/"
    },
    "id": "_RT4oBdGRnkm",
    "outputId": "3438e29a-578b-4f24-f204-5251685aae6c"
   },
   "outputs": [
    {
     "name": "stdout",
     "output_type": "stream",
     "text": [
      "<class 'pandas.core.frame.DataFrame'>\n",
      "Int64Index: 10000 entries, 0 to 1249\n",
      "Data columns (total 8 columns):\n",
      " #   Column           Non-Null Count  Dtype  \n",
      "---  ------           --------------  -----  \n",
      " 0   units            10000 non-null  int64  \n",
      " 1   n_factors        10000 non-null  int64  \n",
      " 2   fold             10000 non-null  int64  \n",
      " 3   epoch            10000 non-null  int64  \n",
      " 4   ic_mean          10000 non-null  float64\n",
      " 5   ic_daily_mean    10000 non-null  float64\n",
      " 6   ic_daily_std     10000 non-null  float64\n",
      " 7   ic_daily_median  10000 non-null  float64\n",
      "dtypes: float64(4), int64(4)\n",
      "memory usage: 703.1 KB\n"
     ]
    }
   ],
   "source": [
    "scores.info()"
   ]
  },
  {
   "cell_type": "code",
   "execution_count": 12,
   "metadata": {
    "ExecuteTime": {
     "end_time": "2021-02-25T01:24:40.755460Z",
     "start_time": "2021-02-25T01:24:40.737523Z"
    },
    "colab": {
     "base_uri": "https://localhost:8080/"
    },
    "id": "UfyWygmSRnkm",
    "outputId": "326db43a-f05e-4c84-a11b-064b2860b100"
   },
   "outputs": [
    {
     "name": "stderr",
     "output_type": "stream",
     "text": [
      "<ipython-input-12-9bd6e27f2cfc>:1: FutureWarning: Indexing with multiple keys (implicitly converted to a tuple of keys) will be deprecated, use a list instead.\n",
      "  avg = (scores.groupby(['n_factors', 'units', 'epoch'])\n"
     ]
    }
   ],
   "source": [
    "avg = (scores.groupby(['n_factors', 'units', 'epoch'])\n",
    "       ['ic_mean', 'ic_daily_mean', 'ic_daily_median']\n",
    "       .mean()\n",
    "      .reset_index())"
   ]
  },
  {
   "cell_type": "code",
   "execution_count": 13,
   "metadata": {
    "ExecuteTime": {
     "end_time": "2021-02-25T01:24:40.967622Z",
     "start_time": "2021-02-25T01:24:40.946156Z"
    },
    "colab": {
     "base_uri": "https://localhost:8080/",
     "height": 677
    },
    "id": "O4B2sY-9Rnkm",
    "outputId": "67c1cb9c-d806-4c87-e283-2ce66f71a1ef"
   },
   "outputs": [
    {
     "data": {
      "text/html": [
       "\n",
       "  <div id=\"df-193abd8c-be94-456d-a13b-459972969834\">\n",
       "    <div class=\"colab-df-container\">\n",
       "      <div>\n",
       "<style scoped>\n",
       "    .dataframe tbody tr th:only-of-type {\n",
       "        vertical-align: middle;\n",
       "    }\n",
       "\n",
       "    .dataframe tbody tr th {\n",
       "        vertical-align: top;\n",
       "    }\n",
       "\n",
       "    .dataframe thead th {\n",
       "        text-align: right;\n",
       "    }\n",
       "</style>\n",
       "<table border=\"1\" class=\"dataframe\">\n",
       "  <thead>\n",
       "    <tr style=\"text-align: right;\">\n",
       "      <th></th>\n",
       "      <th>n_factors</th>\n",
       "      <th>units</th>\n",
       "      <th>epoch</th>\n",
       "      <th>ic_mean</th>\n",
       "      <th>ic_daily_mean</th>\n",
       "      <th>ic_daily_median</th>\n",
       "    </tr>\n",
       "  </thead>\n",
       "  <tbody>\n",
       "    <tr>\n",
       "      <th>1771</th>\n",
       "      <td>6</td>\n",
       "      <td>8</td>\n",
       "      <td>21</td>\n",
       "      <td>0.169272</td>\n",
       "      <td>0.066727</td>\n",
       "      <td>0.059590</td>\n",
       "    </tr>\n",
       "    <tr>\n",
       "      <th>1944</th>\n",
       "      <td>6</td>\n",
       "      <td>8</td>\n",
       "      <td>194</td>\n",
       "      <td>0.141035</td>\n",
       "      <td>0.049329</td>\n",
       "      <td>0.057136</td>\n",
       "    </tr>\n",
       "    <tr>\n",
       "      <th>1787</th>\n",
       "      <td>6</td>\n",
       "      <td>8</td>\n",
       "      <td>37</td>\n",
       "      <td>0.150284</td>\n",
       "      <td>0.056764</td>\n",
       "      <td>0.056860</td>\n",
       "    </tr>\n",
       "    <tr>\n",
       "      <th>1774</th>\n",
       "      <td>6</td>\n",
       "      <td>8</td>\n",
       "      <td>24</td>\n",
       "      <td>0.152279</td>\n",
       "      <td>0.062384</td>\n",
       "      <td>0.056746</td>\n",
       "    </tr>\n",
       "    <tr>\n",
       "      <th>1768</th>\n",
       "      <td>6</td>\n",
       "      <td>8</td>\n",
       "      <td>18</td>\n",
       "      <td>0.158619</td>\n",
       "      <td>0.061924</td>\n",
       "      <td>0.056302</td>\n",
       "    </tr>\n",
       "    <tr>\n",
       "      <th>1786</th>\n",
       "      <td>6</td>\n",
       "      <td>8</td>\n",
       "      <td>36</td>\n",
       "      <td>0.145308</td>\n",
       "      <td>0.061568</td>\n",
       "      <td>0.056033</td>\n",
       "    </tr>\n",
       "    <tr>\n",
       "      <th>1770</th>\n",
       "      <td>6</td>\n",
       "      <td>8</td>\n",
       "      <td>20</td>\n",
       "      <td>0.156049</td>\n",
       "      <td>0.059797</td>\n",
       "      <td>0.053323</td>\n",
       "    </tr>\n",
       "    <tr>\n",
       "      <th>1928</th>\n",
       "      <td>6</td>\n",
       "      <td>8</td>\n",
       "      <td>178</td>\n",
       "      <td>0.131247</td>\n",
       "      <td>0.049524</td>\n",
       "      <td>0.052764</td>\n",
       "    </tr>\n",
       "    <tr>\n",
       "      <th>1974</th>\n",
       "      <td>6</td>\n",
       "      <td>8</td>\n",
       "      <td>224</td>\n",
       "      <td>0.129432</td>\n",
       "      <td>0.045943</td>\n",
       "      <td>0.052561</td>\n",
       "    </tr>\n",
       "    <tr>\n",
       "      <th>1940</th>\n",
       "      <td>6</td>\n",
       "      <td>8</td>\n",
       "      <td>190</td>\n",
       "      <td>0.140694</td>\n",
       "      <td>0.050803</td>\n",
       "      <td>0.052341</td>\n",
       "    </tr>\n",
       "    <tr>\n",
       "      <th>1769</th>\n",
       "      <td>6</td>\n",
       "      <td>8</td>\n",
       "      <td>19</td>\n",
       "      <td>0.152346</td>\n",
       "      <td>0.056489</td>\n",
       "      <td>0.052112</td>\n",
       "    </tr>\n",
       "    <tr>\n",
       "      <th>1789</th>\n",
       "      <td>6</td>\n",
       "      <td>8</td>\n",
       "      <td>39</td>\n",
       "      <td>0.149964</td>\n",
       "      <td>0.055089</td>\n",
       "      <td>0.051484</td>\n",
       "    </tr>\n",
       "    <tr>\n",
       "      <th>1943</th>\n",
       "      <td>6</td>\n",
       "      <td>8</td>\n",
       "      <td>193</td>\n",
       "      <td>0.129097</td>\n",
       "      <td>0.047438</td>\n",
       "      <td>0.051062</td>\n",
       "    </tr>\n",
       "    <tr>\n",
       "      <th>1935</th>\n",
       "      <td>6</td>\n",
       "      <td>8</td>\n",
       "      <td>185</td>\n",
       "      <td>0.132798</td>\n",
       "      <td>0.050276</td>\n",
       "      <td>0.050900</td>\n",
       "    </tr>\n",
       "    <tr>\n",
       "      <th>1964</th>\n",
       "      <td>6</td>\n",
       "      <td>8</td>\n",
       "      <td>214</td>\n",
       "      <td>0.136735</td>\n",
       "      <td>0.048795</td>\n",
       "      <td>0.050544</td>\n",
       "    </tr>\n",
       "    <tr>\n",
       "      <th>1817</th>\n",
       "      <td>6</td>\n",
       "      <td>8</td>\n",
       "      <td>67</td>\n",
       "      <td>0.136907</td>\n",
       "      <td>0.054183</td>\n",
       "      <td>0.049992</td>\n",
       "    </tr>\n",
       "    <tr>\n",
       "      <th>1784</th>\n",
       "      <td>6</td>\n",
       "      <td>8</td>\n",
       "      <td>34</td>\n",
       "      <td>0.143816</td>\n",
       "      <td>0.055614</td>\n",
       "      <td>0.049914</td>\n",
       "    </tr>\n",
       "    <tr>\n",
       "      <th>1785</th>\n",
       "      <td>6</td>\n",
       "      <td>8</td>\n",
       "      <td>35</td>\n",
       "      <td>0.141340</td>\n",
       "      <td>0.055215</td>\n",
       "      <td>0.049806</td>\n",
       "    </tr>\n",
       "    <tr>\n",
       "      <th>1977</th>\n",
       "      <td>6</td>\n",
       "      <td>8</td>\n",
       "      <td>227</td>\n",
       "      <td>0.127428</td>\n",
       "      <td>0.055367</td>\n",
       "      <td>0.049640</td>\n",
       "    </tr>\n",
       "    <tr>\n",
       "      <th>1804</th>\n",
       "      <td>6</td>\n",
       "      <td>8</td>\n",
       "      <td>54</td>\n",
       "      <td>0.137383</td>\n",
       "      <td>0.051216</td>\n",
       "      <td>0.049497</td>\n",
       "    </tr>\n",
       "  </tbody>\n",
       "</table>\n",
       "</div>\n",
       "      <button class=\"colab-df-convert\" onclick=\"convertToInteractive('df-193abd8c-be94-456d-a13b-459972969834')\"\n",
       "              title=\"Convert this dataframe to an interactive table.\"\n",
       "              style=\"display:none;\">\n",
       "        \n",
       "  <svg xmlns=\"http://www.w3.org/2000/svg\" height=\"24px\"viewBox=\"0 0 24 24\"\n",
       "       width=\"24px\">\n",
       "    <path d=\"M0 0h24v24H0V0z\" fill=\"none\"/>\n",
       "    <path d=\"M18.56 5.44l.94 2.06.94-2.06 2.06-.94-2.06-.94-.94-2.06-.94 2.06-2.06.94zm-11 1L8.5 8.5l.94-2.06 2.06-.94-2.06-.94L8.5 2.5l-.94 2.06-2.06.94zm10 10l.94 2.06.94-2.06 2.06-.94-2.06-.94-.94-2.06-.94 2.06-2.06.94z\"/><path d=\"M17.41 7.96l-1.37-1.37c-.4-.4-.92-.59-1.43-.59-.52 0-1.04.2-1.43.59L10.3 9.45l-7.72 7.72c-.78.78-.78 2.05 0 2.83L4 21.41c.39.39.9.59 1.41.59.51 0 1.02-.2 1.41-.59l7.78-7.78 2.81-2.81c.8-.78.8-2.07 0-2.86zM5.41 20L4 18.59l7.72-7.72 1.47 1.35L5.41 20z\"/>\n",
       "  </svg>\n",
       "      </button>\n",
       "      \n",
       "  <style>\n",
       "    .colab-df-container {\n",
       "      display:flex;\n",
       "      flex-wrap:wrap;\n",
       "      gap: 12px;\n",
       "    }\n",
       "\n",
       "    .colab-df-convert {\n",
       "      background-color: #E8F0FE;\n",
       "      border: none;\n",
       "      border-radius: 50%;\n",
       "      cursor: pointer;\n",
       "      display: none;\n",
       "      fill: #1967D2;\n",
       "      height: 32px;\n",
       "      padding: 0 0 0 0;\n",
       "      width: 32px;\n",
       "    }\n",
       "\n",
       "    .colab-df-convert:hover {\n",
       "      background-color: #E2EBFA;\n",
       "      box-shadow: 0px 1px 2px rgba(60, 64, 67, 0.3), 0px 1px 3px 1px rgba(60, 64, 67, 0.15);\n",
       "      fill: #174EA6;\n",
       "    }\n",
       "\n",
       "    [theme=dark] .colab-df-convert {\n",
       "      background-color: #3B4455;\n",
       "      fill: #D2E3FC;\n",
       "    }\n",
       "\n",
       "    [theme=dark] .colab-df-convert:hover {\n",
       "      background-color: #434B5C;\n",
       "      box-shadow: 0px 1px 3px 1px rgba(0, 0, 0, 0.15);\n",
       "      filter: drop-shadow(0px 1px 2px rgba(0, 0, 0, 0.3));\n",
       "      fill: #FFFFFF;\n",
       "    }\n",
       "  </style>\n",
       "\n",
       "      <script>\n",
       "        const buttonEl =\n",
       "          document.querySelector('#df-193abd8c-be94-456d-a13b-459972969834 button.colab-df-convert');\n",
       "        buttonEl.style.display =\n",
       "          google.colab.kernel.accessAllowed ? 'block' : 'none';\n",
       "\n",
       "        async function convertToInteractive(key) {\n",
       "          const element = document.querySelector('#df-193abd8c-be94-456d-a13b-459972969834');\n",
       "          const dataTable =\n",
       "            await google.colab.kernel.invokeFunction('convertToInteractive',\n",
       "                                                     [key], {});\n",
       "          if (!dataTable) return;\n",
       "\n",
       "          const docLinkHtml = 'Like what you see? Visit the ' +\n",
       "            '<a target=\"_blank\" href=https://colab.research.google.com/notebooks/data_table.ipynb>data table notebook</a>'\n",
       "            + ' to learn more about interactive tables.';\n",
       "          element.innerHTML = '';\n",
       "          dataTable['output_type'] = 'display_data';\n",
       "          await google.colab.output.renderOutput(dataTable, element);\n",
       "          const docLink = document.createElement('div');\n",
       "          docLink.innerHTML = docLinkHtml;\n",
       "          element.appendChild(docLink);\n",
       "        }\n",
       "      </script>\n",
       "    </div>\n",
       "  </div>\n",
       "  "
      ],
      "text/plain": [
       "      n_factors  units  epoch   ic_mean  ic_daily_mean  ic_daily_median\n",
       "1771          6      8     21  0.169272       0.066727         0.059590\n",
       "1944          6      8    194  0.141035       0.049329         0.057136\n",
       "1787          6      8     37  0.150284       0.056764         0.056860\n",
       "1774          6      8     24  0.152279       0.062384         0.056746\n",
       "1768          6      8     18  0.158619       0.061924         0.056302\n",
       "1786          6      8     36  0.145308       0.061568         0.056033\n",
       "1770          6      8     20  0.156049       0.059797         0.053323\n",
       "1928          6      8    178  0.131247       0.049524         0.052764\n",
       "1974          6      8    224  0.129432       0.045943         0.052561\n",
       "1940          6      8    190  0.140694       0.050803         0.052341\n",
       "1769          6      8     19  0.152346       0.056489         0.052112\n",
       "1789          6      8     39  0.149964       0.055089         0.051484\n",
       "1943          6      8    193  0.129097       0.047438         0.051062\n",
       "1935          6      8    185  0.132798       0.050276         0.050900\n",
       "1964          6      8    214  0.136735       0.048795         0.050544\n",
       "1817          6      8     67  0.136907       0.054183         0.049992\n",
       "1784          6      8     34  0.143816       0.055614         0.049914\n",
       "1785          6      8     35  0.141340       0.055215         0.049806\n",
       "1977          6      8    227  0.127428       0.055367         0.049640\n",
       "1804          6      8     54  0.137383       0.051216         0.049497"
      ]
     },
     "execution_count": 13,
     "metadata": {},
     "output_type": "execute_result"
    }
   ],
   "source": [
    "avg.nlargest(n=20, columns=['ic_daily_median'])"
   ]
  },
  {
   "cell_type": "code",
   "execution_count": 14,
   "metadata": {
    "ExecuteTime": {
     "end_time": "2021-02-25T01:24:42.905824Z",
     "start_time": "2021-02-25T01:24:42.868325Z"
    },
    "colab": {
     "base_uri": "https://localhost:8080/",
     "height": 238
    },
    "id": "dG7kOy8aRnkn",
    "outputId": "848eb7bd-78a3-4ff2-ba4b-b958fc2add2d"
   },
   "outputs": [
    {
     "data": {
      "text/html": [
       "\n",
       "  <div id=\"df-b4f0c256-8459-4f08-b84a-06e6e1ce5032\">\n",
       "    <div class=\"colab-df-container\">\n",
       "      <div>\n",
       "<style scoped>\n",
       "    .dataframe tbody tr th:only-of-type {\n",
       "        vertical-align: middle;\n",
       "    }\n",
       "\n",
       "    .dataframe tbody tr th {\n",
       "        vertical-align: top;\n",
       "    }\n",
       "\n",
       "    .dataframe thead th {\n",
       "        text-align: right;\n",
       "    }\n",
       "</style>\n",
       "<table border=\"1\" class=\"dataframe\">\n",
       "  <thead>\n",
       "    <tr style=\"text-align: right;\">\n",
       "      <th></th>\n",
       "      <th></th>\n",
       "      <th>n_factors</th>\n",
       "      <th>units</th>\n",
       "      <th>epoch</th>\n",
       "      <th>ic_mean</th>\n",
       "      <th>ic_daily_mean</th>\n",
       "      <th>ic_daily_median</th>\n",
       "    </tr>\n",
       "    <tr>\n",
       "      <th>n_factors</th>\n",
       "      <th>units</th>\n",
       "      <th></th>\n",
       "      <th></th>\n",
       "      <th></th>\n",
       "      <th></th>\n",
       "      <th></th>\n",
       "      <th></th>\n",
       "    </tr>\n",
       "  </thead>\n",
       "  <tbody>\n",
       "    <tr>\n",
       "      <th rowspan=\"5\" valign=\"top\">6</th>\n",
       "      <th>8</th>\n",
       "      <td>6</td>\n",
       "      <td>8</td>\n",
       "      <td>21</td>\n",
       "      <td>0.169272</td>\n",
       "      <td>0.066727</td>\n",
       "      <td>0.059590</td>\n",
       "    </tr>\n",
       "    <tr>\n",
       "      <th>8</th>\n",
       "      <td>6</td>\n",
       "      <td>8</td>\n",
       "      <td>194</td>\n",
       "      <td>0.141035</td>\n",
       "      <td>0.049329</td>\n",
       "      <td>0.057136</td>\n",
       "    </tr>\n",
       "    <tr>\n",
       "      <th>8</th>\n",
       "      <td>6</td>\n",
       "      <td>8</td>\n",
       "      <td>37</td>\n",
       "      <td>0.150284</td>\n",
       "      <td>0.056764</td>\n",
       "      <td>0.056860</td>\n",
       "    </tr>\n",
       "    <tr>\n",
       "      <th>8</th>\n",
       "      <td>6</td>\n",
       "      <td>8</td>\n",
       "      <td>24</td>\n",
       "      <td>0.152279</td>\n",
       "      <td>0.062384</td>\n",
       "      <td>0.056746</td>\n",
       "    </tr>\n",
       "    <tr>\n",
       "      <th>8</th>\n",
       "      <td>6</td>\n",
       "      <td>8</td>\n",
       "      <td>18</td>\n",
       "      <td>0.158619</td>\n",
       "      <td>0.061924</td>\n",
       "      <td>0.056302</td>\n",
       "    </tr>\n",
       "  </tbody>\n",
       "</table>\n",
       "</div>\n",
       "      <button class=\"colab-df-convert\" onclick=\"convertToInteractive('df-b4f0c256-8459-4f08-b84a-06e6e1ce5032')\"\n",
       "              title=\"Convert this dataframe to an interactive table.\"\n",
       "              style=\"display:none;\">\n",
       "        \n",
       "  <svg xmlns=\"http://www.w3.org/2000/svg\" height=\"24px\"viewBox=\"0 0 24 24\"\n",
       "       width=\"24px\">\n",
       "    <path d=\"M0 0h24v24H0V0z\" fill=\"none\"/>\n",
       "    <path d=\"M18.56 5.44l.94 2.06.94-2.06 2.06-.94-2.06-.94-.94-2.06-.94 2.06-2.06.94zm-11 1L8.5 8.5l.94-2.06 2.06-.94-2.06-.94L8.5 2.5l-.94 2.06-2.06.94zm10 10l.94 2.06.94-2.06 2.06-.94-2.06-.94-.94-2.06-.94 2.06-2.06.94z\"/><path d=\"M17.41 7.96l-1.37-1.37c-.4-.4-.92-.59-1.43-.59-.52 0-1.04.2-1.43.59L10.3 9.45l-7.72 7.72c-.78.78-.78 2.05 0 2.83L4 21.41c.39.39.9.59 1.41.59.51 0 1.02-.2 1.41-.59l7.78-7.78 2.81-2.81c.8-.78.8-2.07 0-2.86zM5.41 20L4 18.59l7.72-7.72 1.47 1.35L5.41 20z\"/>\n",
       "  </svg>\n",
       "      </button>\n",
       "      \n",
       "  <style>\n",
       "    .colab-df-container {\n",
       "      display:flex;\n",
       "      flex-wrap:wrap;\n",
       "      gap: 12px;\n",
       "    }\n",
       "\n",
       "    .colab-df-convert {\n",
       "      background-color: #E8F0FE;\n",
       "      border: none;\n",
       "      border-radius: 50%;\n",
       "      cursor: pointer;\n",
       "      display: none;\n",
       "      fill: #1967D2;\n",
       "      height: 32px;\n",
       "      padding: 0 0 0 0;\n",
       "      width: 32px;\n",
       "    }\n",
       "\n",
       "    .colab-df-convert:hover {\n",
       "      background-color: #E2EBFA;\n",
       "      box-shadow: 0px 1px 2px rgba(60, 64, 67, 0.3), 0px 1px 3px 1px rgba(60, 64, 67, 0.15);\n",
       "      fill: #174EA6;\n",
       "    }\n",
       "\n",
       "    [theme=dark] .colab-df-convert {\n",
       "      background-color: #3B4455;\n",
       "      fill: #D2E3FC;\n",
       "    }\n",
       "\n",
       "    [theme=dark] .colab-df-convert:hover {\n",
       "      background-color: #434B5C;\n",
       "      box-shadow: 0px 1px 3px 1px rgba(0, 0, 0, 0.15);\n",
       "      filter: drop-shadow(0px 1px 2px rgba(0, 0, 0, 0.3));\n",
       "      fill: #FFFFFF;\n",
       "    }\n",
       "  </style>\n",
       "\n",
       "      <script>\n",
       "        const buttonEl =\n",
       "          document.querySelector('#df-b4f0c256-8459-4f08-b84a-06e6e1ce5032 button.colab-df-convert');\n",
       "        buttonEl.style.display =\n",
       "          google.colab.kernel.accessAllowed ? 'block' : 'none';\n",
       "\n",
       "        async function convertToInteractive(key) {\n",
       "          const element = document.querySelector('#df-b4f0c256-8459-4f08-b84a-06e6e1ce5032');\n",
       "          const dataTable =\n",
       "            await google.colab.kernel.invokeFunction('convertToInteractive',\n",
       "                                                     [key], {});\n",
       "          if (!dataTable) return;\n",
       "\n",
       "          const docLinkHtml = 'Like what you see? Visit the ' +\n",
       "            '<a target=\"_blank\" href=https://colab.research.google.com/notebooks/data_table.ipynb>data table notebook</a>'\n",
       "            + ' to learn more about interactive tables.';\n",
       "          element.innerHTML = '';\n",
       "          dataTable['output_type'] = 'display_data';\n",
       "          await google.colab.output.renderOutput(dataTable, element);\n",
       "          const docLink = document.createElement('div');\n",
       "          docLink.innerHTML = docLinkHtml;\n",
       "          element.appendChild(docLink);\n",
       "        }\n",
       "      </script>\n",
       "    </div>\n",
       "  </div>\n",
       "  "
      ],
      "text/plain": [
       "                 n_factors  units  epoch   ic_mean  ic_daily_mean  \\\n",
       "n_factors units                                                     \n",
       "6         8              6      8     21  0.169272       0.066727   \n",
       "          8              6      8    194  0.141035       0.049329   \n",
       "          8              6      8     37  0.150284       0.056764   \n",
       "          8              6      8     24  0.152279       0.062384   \n",
       "          8              6      8     18  0.158619       0.061924   \n",
       "\n",
       "                 ic_daily_median  \n",
       "n_factors units                   \n",
       "6         8             0.059590  \n",
       "          8             0.057136  \n",
       "          8             0.056860  \n",
       "          8             0.056746  \n",
       "          8             0.056302  "
      ]
     },
     "execution_count": 14,
     "metadata": {},
     "output_type": "execute_result"
    }
   ],
   "source": [
    "top = (avg.groupby(['n_factors', 'units'])\n",
    "       .apply(lambda x: x.nlargest(n=5, columns=['ic_daily_median']))\n",
    "       .reset_index(-1, drop=True))\n",
    "\n",
    "top.nlargest(n=5, columns=['ic_daily_median'])"
   ]
  },
  {
   "cell_type": "code",
   "execution_count": 15,
   "metadata": {
    "ExecuteTime": {
     "end_time": "2021-02-24T21:42:05.316440Z",
     "start_time": "2021-02-24T21:42:03.450732Z"
    },
    "colab": {
     "base_uri": "https://localhost:8080/",
     "height": 605
    },
    "id": "qVx4lwnaRnkn",
    "outputId": "da2eba80-607f-4a59-dae1-02cd7b5f2d32"
   },
   "outputs": [
    {
     "data": {
      "image/png": "[encoded data removed]",
      "text/plain": [
       "<Figure size 1440x576 with 10 Axes>"
      ]
     },
     "metadata": {},
     "output_type": "display_data"
    }
   ],
   "source": [
    "fig, axes = plt.subplots(ncols=5, nrows=2, figsize=(20, 8), sharey='row', sharex=True)\n",
    "\n",
    "for n in range(2, 7):\n",
    "    df = avg[avg.n_factors==n].pivot(index='epoch', columns='units', values='ic_mean')\n",
    "    df.rolling(10).mean().loc[:200].plot(ax=axes[0][n-2], lw=1, title=f'{n} Factors')\n",
    "    axes[0][n-2].axhline(0, ls='--', c='k', lw=1)\n",
    "    axes[0][n-2].get_legend().remove()\n",
    "    axes[0][n-2].set_ylabel('IC (10-epoch rolling mean)')\n",
    "\n",
    "    df = avg[avg.n_factors==n].pivot(index='epoch', columns='units', values='ic_daily_median')\n",
    "    df.rolling(10).mean().loc[:200].plot(ax=axes[1][n-2], lw=1)\n",
    "    axes[1][n-2].axhline(0, ls='--', c='k', lw=1)\n",
    "    axes[1][n-2].get_legend().remove()\n",
    "    axes[1][n-2].set_ylabel('IC, Daily Median (10-epoch rolling mean)')\n",
    "\n",
    "handles, labels = axes[0][0].get_legend_handles_labels()\n",
    "fig.legend(handles, labels, loc='center right', title='# Units')\n",
    "fig.suptitle('Cross-Validation Performance (2015-2019)', fontsize=16)\n",
    "fig.tight_layout()\n",
    "fig.subplots_adjust(top=.9)\n",
    "fig.savefig(results_path / 'cv_performance', dpi=300);"
   ]
  },
  {
   "cell_type": "markdown",
   "metadata": {
    "id": "cp3LcPFPRnkn"
   },
   "source": [
    "## Generate Predictions"
   ]
  },
  {
   "cell_type": "markdown",
   "metadata": {
    "id": "FqzmS3D5Rnkn"
   },
   "source": [
    "We'll average over a range of epochs that appears to deliver good predictions."
   ]
  },
  {
   "cell_type": "code",
   "execution_count": 22,
   "metadata": {
    "ExecuteTime": {
     "end_time": "2021-02-25T02:20:39.334590Z",
     "start_time": "2021-02-25T02:20:39.328174Z"
    },
    "id": "GktTMHEaRnkn"
   },
   "outputs": [],
   "source": [
    "n_factors = 4\n",
    "units = 32\n",
    "batch_size = 32\n",
    "first_epoch = 50\n",
    "last_epoch = 80"
   ]
  },
  {
   "cell_type": "code",
   "execution_count": 23,
   "metadata": {
    "ExecuteTime": {
     "end_time": "2021-02-25T02:53:07.097416Z",
     "start_time": "2021-02-25T02:20:39.526027Z"
    },
    "colab": {
     "base_uri": "https://localhost:8080/",
     "height": 288
    },
    "id": "DTkp5XmXRnkn",
    "outputId": "1af6039d-cbee-4458-c68e-db4617319487",
    "scrolled": false
   },
   "outputs": [
    {
     "name": "stderr",
     "output_type": "stream",
     "text": [
      "  0%|          | 0/30 [00:00<?, ?it/s]\n"
     ]
    },
    {
     "ename": "NameError",
     "evalue": "ignored",
     "output_type": "error",
     "traceback": [
      "\u001b[0;31m---------------------------------------------------------------------------\u001b[0m",
      "\u001b[0;31mNameError\u001b[0m                                 Traceback (most recent call last)",
      "\u001b[0;32m<ipython-input-23-6c5dde51cc8a>\u001b[0m in \u001b[0;36m<module>\u001b[0;34m\u001b[0m\n\u001b[1;32m      2\u001b[0m \u001b[0;32mfor\u001b[0m \u001b[0mepoch\u001b[0m \u001b[0;32min\u001b[0m \u001b[0mtqdm\u001b[0m\u001b[0;34m(\u001b[0m\u001b[0mlist\u001b[0m\u001b[0;34m(\u001b[0m\u001b[0mrange\u001b[0m\u001b[0;34m(\u001b[0m\u001b[0mfirst_epoch\u001b[0m\u001b[0;34m,\u001b[0m \u001b[0mlast_epoch\u001b[0m\u001b[0;34m)\u001b[0m\u001b[0;34m)\u001b[0m\u001b[0;34m)\u001b[0m\u001b[0;34m:\u001b[0m\u001b[0;34m\u001b[0m\u001b[0;34m\u001b[0m\u001b[0m\n\u001b[1;32m      3\u001b[0m     \u001b[0mepoch_preds\u001b[0m \u001b[0;34m=\u001b[0m \u001b[0;34m[\u001b[0m\u001b[0;34m]\u001b[0m\u001b[0;34m\u001b[0m\u001b[0;34m\u001b[0m\u001b[0m\n\u001b[0;32m----> 4\u001b[0;31m     \u001b[0;32mfor\u001b[0m \u001b[0mfold\u001b[0m\u001b[0;34m,\u001b[0m \u001b[0;34m(\u001b[0m\u001b[0mtrain_idx\u001b[0m\u001b[0;34m,\u001b[0m \u001b[0mval_idx\u001b[0m\u001b[0;34m)\u001b[0m \u001b[0;32min\u001b[0m \u001b[0menumerate\u001b[0m\u001b[0;34m(\u001b[0m\u001b[0mcv\u001b[0m\u001b[0;34m.\u001b[0m\u001b[0msplit\u001b[0m\u001b[0;34m(\u001b[0m\u001b[0mdata\u001b[0m\u001b[0;34m)\u001b[0m\u001b[0;34m)\u001b[0m\u001b[0;34m:\u001b[0m\u001b[0;34m\u001b[0m\u001b[0;34m\u001b[0m\u001b[0m\n\u001b[0m\u001b[1;32m      5\u001b[0m         X1_train, X2_train, y_train, X1_val, X2_val, y_val = get_train_valid_data(data,\n\u001b[1;32m      6\u001b[0m                                                                                   \u001b[0mtrain_idx\u001b[0m\u001b[0;34m,\u001b[0m\u001b[0;34m\u001b[0m\u001b[0;34m\u001b[0m\u001b[0m\n",
      "\u001b[0;31mNameError\u001b[0m: name 'data' is not defined"
     ]
    }
   ],
   "source": [
    "predictions = []\n",
    "for epoch in tqdm(list(range(first_epoch, last_epoch))):\n",
    "    epoch_preds = []\n",
    "    for fold, (train_idx, val_idx) in enumerate(cv.split(data)):\n",
    "        X1_train, X2_train, y_train, X1_val, X2_val, y_val = get_train_valid_data(data,\n",
    "                                                                                  train_idx,\n",
    "                                                                                  val_idx)\n",
    "\n",
    "        model = make_model(n_factors=n_factors, hidden_units=units)\n",
    "        model.fit([X1_train, X2_train], y_train,\n",
    "                  batch_size=batch_size,\n",
    "                  epochs=epoch,\n",
    "                  verbose=0,\n",
    "                  shuffle=True)\n",
    "        epoch_preds.append(pd.Series(model.predict([X1_val, X2_val]).reshape(-1),\n",
    "                                     index=y_val.stack().index).to_frame(epoch))\n",
    "\n",
    "    predictions.append(pd.concat(epoch_preds))"
   ]
  },
  {
   "cell_type": "code",
   "execution_count": null,
   "metadata": {
    "ExecuteTime": {
     "end_time": "2021-02-24T22:56:10.170667Z",
     "start_time": "2021-02-24T22:56:05.415887Z"
    },
    "id": "rrRLE0wJRnkn"
   },
   "outputs": [],
   "source": [
    "predictions_combined = pd.concat(predictions, axis=1).sort_index()   "
   ]
  },
  {
   "cell_type": "code",
   "execution_count": null,
   "metadata": {
    "ExecuteTime": {
     "end_time": "2021-02-24T22:56:10.236001Z",
     "start_time": "2021-02-24T22:56:10.171537Z"
    },
    "id": "UjCJ3SGTRnko"
   },
   "outputs": [],
   "source": [
    "predictions_combined.info()"
   ]
  },
  {
   "cell_type": "code",
   "execution_count": null,
   "metadata": {
    "ExecuteTime": {
     "end_time": "2021-02-24T22:56:10.394903Z",
     "start_time": "2021-02-24T22:56:10.236930Z"
    },
    "id": "84kTpFs5Rnko"
   },
   "outputs": [],
   "source": [
    "predictions_combined.to_hdf(results_path / 'predictions.h5', 'predictions')"
   ]
  }
 ],
 "metadata": {
  "colab": {
   "provenance": []
  },
  "gpuClass": "standard",
  "kernelspec": {
   "display_name": "Python3-ml4t",
   "language": "python",
   "name": "python3-ml4t"
  },
  "language_info": {
   "codemirror_mode": {
    "name": "ipython",
    "version": 3
   },
   "file_extension": ".py",
   "mimetype": "text/x-python",
   "name": "python",
   "nbconvert_exporter": "python",
   "pygments_lexer": "ipython3",
   "version": "3.8.10"
  },
  "toc": {
   "base_numbering": 1,
   "nav_menu": {},
   "number_sections": true,
   "sideBar": true,
   "skip_h1_title": true,
   "title_cell": "Table of Contents",
   "title_sidebar": "Contents",
   "toc_cell": false,
   "toc_position": {
    "height": "calc(100% - 180px)",
    "left": "10px",
    "top": "150px",
    "width": "304px"
   },
   "toc_section_display": true,
   "toc_window_display": true
  }
 },
 "nbformat": 4,
 "nbformat_minor": 1
}
