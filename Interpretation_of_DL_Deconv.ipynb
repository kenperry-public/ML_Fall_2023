{
 "cells": [
  {
   "cell_type": "code",
   "execution_count": 1,
   "metadata": {
    "slideshow": {
     "slide_type": "notes"
    }
   },
   "outputs": [
    {
     "data": {
      "text/latex": [
       "$$\n",
       "\\newcommand{\\x}{\\mathbf{x}}\n",
       "\\newcommand{\\tx}{\\tilde{\\x}}\n",
       "\\newcommand{\\y}{\\mathbf{y}}\n",
       "\\newcommand{\\b}{\\mathbf{b}}\n",
       "\\newcommand{\\c}{\\mathbf{c}}\n",
       "\\newcommand{\\e}{\\mathbf{e}}\n",
       "\\newcommand{\\z}{\\mathbf{z}}\n",
       "\\newcommand{\\h}{\\mathbf{h}}\n",
       "\\newcommand{\\u}{\\mathbf{u}}\n",
       "\\newcommand{\\v}{\\mathbf{v}}\n",
       "\\newcommand{\\w}{\\mathbf{w}}\n",
       "\\newcommand{\\W}{\\mathbf{W}}\n",
       "\\newcommand{\\X}{\\mathbf{X}}\n",
       "\\newcommand{\\KL}{\\mathbf{KL}}\n",
       "\\newcommand{\\E}{{\\mathbb{E}}}\n",
       "\\newcommand{\\ip}{\\mathbf{{(i)}}}\n",
       "%\n",
       "% Test set\n",
       "\\newcommand{\\xt}{\\underline{\\x}}\n",
       "\\newcommand{\\yt}{\\underline{\\y}}\n",
       "\\newcommand{\\Xt}{\\underline{\\X}}\n",
       "\\newcommand{\\perfm}{\\mathcal{P}}\n",
       "%\n",
       "% \\ll indexes a layer; we can change the actual letter\n",
       "\\newcommand{\\ll}{l}\n",
       "\\newcommand{\\llp}{{(\\ll)}}\n",
       "%\n",
       "\\newcommand{Thetam}{\\Theta_{-0}}\n",
       "\n",
       "% CNN\n",
       "\\newcommand{\\kernel}{\\mathbf{k}} \n",
       "\\newcommand{\\dim}{d}\n",
       "\\newcommand{\\idxspatial}{{\\text{idx}}}\n",
       "\\newcommand{\\summaxact}{\\text{max}}\n",
       "%\n",
       "%\n",
       "\n",
       "% RNN\n",
       "% \\tt indexes a time step\n",
       "\\newcommand{\\tt}{t}\n",
       "\\newcommand{\\tp}{{(\\tt)}}\n",
       "%\n",
       "%\n",
       "\n",
       "% LSTM\n",
       "\\newcommand{\\g}{\\mathbf{g}}\n",
       "\\newcommand{\\remember}{\\mathbf{remember}}\n",
       "\\newcommand{\\save}{\\mathbf{save}}\n",
       "\\newcommand{\\focus}{\\mathbf{focus}}\n",
       "%\n",
       "%\n",
       "% NLP\n",
       "\\newcommand{\\Vocab}{\\mathbf{V}}\n",
       "\\newcommand{\\v}{\\mathbf{v}}\n",
       "\\newcommand{\\offset}{o}\n",
       "\\newcommand{\\o}{o}\n",
       "\\newcommand{\\E}{\\mathbf{E}}\n",
       "%\n",
       "%\n",
       "\\newcommand{\\loss}{\\mathcal{L}}\n",
       "\\newcommand{\\cost}{\\mathcal{L}}\n",
       "%\n",
       "%                     \n",
       "\\newcommand{\\pdata}{p_\\text{data}}\n",
       "\\newcommand{\\pmodel}{p_\\text{model}}\n",
       "%\n",
       "% SVM\n",
       "\\newcommand{\\margin}{{\\mathbb{m}}}\n",
       "\\newcommand{\\lmk}{\\boldsymbol{\\ell}}\n",
       "%\n",
       "% Functions with arguments\n",
       "\\def\\xsy#1#2{#1^#2}\n",
       "\\def\\rand#1{\\tilde{#1}}\n",
       "\\def\\randx{\\rand{\\x}}\n",
       "\\def\\randy{\\rand{\\y}}\n",
       "\\def\\trans#1{\\dot{#1}}\n",
       "\\def\\transx{\\trans{\\x}}\n",
       "\\def\\transy{\\trans{\\y}}\n",
       "%\n",
       "\\def\\argmax#1{\\underset{#1} {\\operatorname{argmax}} }\n",
       "\\def\\argmin#1{\\underset{#1} {\\operatorname{argmin}} }\n",
       "\\def\\max#1{\\underset{#1} {\\operatorname{max}} }\n",
       "\\def\\min#1{\\underset{#1} {\\operatorname{min}} }\n",
       "%\n",
       "\\def\\pr#1{\\mathcal{p}(#1)}\n",
       "\\def\\prc#1#2{\\mathcal{p}(#1 \\; | \\; #2)}\n",
       "\\def\\cnt#1{\\mathcal{count}_{#1}}\n",
       "\\def\\node#1{\\mathbb{#1}}\n",
       "%\n",
       "\\newcommand{\\floor}[1]{\\left\\lfloor #1 \\right\\rfloor}\n",
       "\\newcommand{\\ceil}[1]{\\left\\lceil #1 \\right\\rceil}\n",
       "%\n",
       "\\def\\loc#1{{\\text{##} {#1}}}\n",
       "%\n",
       "$$\n"
      ],
      "text/plain": [
       "<IPython.core.display.Latex object>"
      ]
     },
     "metadata": {},
     "output_type": "display_data"
    }
   ],
   "source": [
    "%run Latex_macros.ipynb"
   ]
  },
  {
   "cell_type": "code",
   "execution_count": 2,
   "metadata": {
    "slideshow": {
     "slide_type": "notes"
    }
   },
   "outputs": [],
   "source": [
    "# My standard magic !  You will see this in almost all my notebooks.\n",
    "\n",
    "from IPython.core.interactiveshell import InteractiveShell\n",
    "InteractiveShell.ast_node_interactivity = \"all\"\n",
    "\n",
    "# Reload all modules imported with %aimport\n",
    "%load_ext autoreload\n",
    "%autoreload 1\n",
    "\n",
    "%matplotlib inline"
   ]
  },
  {
   "cell_type": "code",
   "execution_count": 3,
   "metadata": {
    "slideshow": {
     "slide_type": "notes"
    }
   },
   "outputs": [],
   "source": [
    "from IPython.display import Image\n",
    "\n",
    "import cnn_helper\n",
    "%aimport cnn_helper\n",
    "cnnh = cnn_helper.CNN_Helper()"
   ]
  },
  {
   "cell_type": "markdown",
   "metadata": {
    "slideshow": {
     "slide_type": "slide"
    }
   },
   "source": [
    "# Interpretation by Inverting \n",
    "\n",
    "Our initial exploration of Interpretability emphasized some pretty simple methods.\n",
    "\n",
    "We continue our quest utilizing slightly more advanced ideas."
   ]
  },
  {
   "cell_type": "markdown",
   "metadata": {
    "slideshow": {
     "slide_type": "subslide"
    }
   },
   "source": [
    "The general flavor of these ideas is as follows:\n",
    "    \n",
    "- If we can map an  individual feature (at a single spatial location of feature map $k$ of layer $\\ll$)\n",
    "- Back to the region of *input* features that affect it\n",
    "- Then perhaps we can interpret the feature map $k$ of layer $\\ll$: $\\y_{\\llp,k}$\n",
    "\n",
    "\n",
    "We call these methods \"inversion\" as we map outputs (layer $\\ll$ representations $\\y_\\llp$ )\n",
    "back to inputs ($\\x$).\n"
   ]
  },
  {
   "cell_type": "markdown",
   "metadata": {
    "slideshow": {
     "slide_type": "subslide"
    }
   },
   "source": [
    "# Receptive Field: From Feature Map to Input\n",
    "\n",
    "Mapping an element of layer $\\ll$ back to regions of layer $0$\n",
    "requires the concept of *receptive field* that was introduced in [the module on CNN](CNN_Space_and_Time.ipynb#Receptive-field).\n",
    "\n",
    "Let's review."
   ]
  },
  {
   "cell_type": "markdown",
   "metadata": {
    "slideshow": {
     "slide_type": "subslide"
    }
   },
   "source": [
    "\n",
    "Since a Convolutional layer $\\ll$\n",
    "- Preserves the spatial dimension of its input (layer $(\\ll-1)$ output (assuming full padding)\n",
    "- We can relate a single feature at a particular spatial location of a feature map\n",
    "- To the  spatial locations of layer $0$, the input, that affect the layer $\\ll$ feature"
   ]
  },
  {
   "cell_type": "markdown",
   "metadata": {
    "slideshow": {
     "slide_type": "subslide"
    }
   },
   "source": [
    "We can determine spatial locations of the layer $0$ features influencing this single layer $\\ll$ location  by working backwards from layer $\\ll$."
   ]
  },
  {
   "cell_type": "markdown",
   "metadata": {
    "slideshow": {
     "slide_type": "subslide"
    }
   },
   "source": [
    "<div>\n",
    "    <center><strong>Conv 2D Receptive field: 2 layers<strong></center>\n",
    "    <br>\n",
    "<img src=images/Conv2d_receptive_2.png width=900>\n",
    "    </div>"
   ]
  },
  {
   "cell_type": "markdown",
   "metadata": {
    "slideshow": {
     "slide_type": "slide"
    }
   },
   "source": [
    "**Aside: Notes on the diagram**\n",
    "\n",
    "The column under layer $(\\ll-1)$ depicts\n",
    "- A *single* feature map at different times (i.e., when the kernel is centered at different layer $\\ll$ spatial locations)\n",
    "- **Not** different layer $(\\ll-1)$ feature maps!\n",
    "\n",
    "We also omit feature map/channel subscripts (i.e., writing $\\y_\\llp$ rather than $\\y_{\\llp, \\ldots, k}$)\n",
    "as they are not necessary for our purpose\n",
    "- As can be seen by reviewing the mechanics of convolution\n",
    "\n"
   ]
  },
  {
   "cell_type": "markdown",
   "metadata": {
    "slideshow": {
     "slide_type": "subslide"
    }
   },
   "source": [
    "This is because of the mechanics of the convolutional dot product\n",
    "- Each feature map $k$ at layer $\\ll$ \n",
    "- Is a function of *all* the feature maps at layer $(\\ll-1)$\n",
    "- So all feature maps at layer $\\ll$ depend on the same spatial locations of layer $(\\ll-1)$\n",
    "- And these spatial locations are identical across all feature maps/channels of layer $(\\ll-1)$   \n",
    "\n"
   ]
  },
  {
   "cell_type": "markdown",
   "metadata": {
    "slideshow": {
     "slide_type": "subslide"
    }
   },
   "source": [
    "<div>\n",
    "    <center><strong>Convolution: preserve spatial dimension, change channel dimension</strong></center>\n",
    "    <br>\n",
    "<img src=images/Conv3d_2.png>\n",
    "    </div>"
   ]
  },
  {
   "cell_type": "markdown",
   "metadata": {
    "slideshow": {
     "slide_type": "subslide"
    }
   },
   "source": [
    "Using a kernel with spatial dimension $(3 \\times 3)$ for the Convolution of each layer\n",
    "- The spatial locations in layer $\\ll$\n",
    "- Are color coded to match the spatial locations in layer $(\\ll-1)$\n",
    "- That affect it\n",
    "\n",
    "So the yellow location in layer $\\ll$ is a function of the yellow locations in layer $(\\ll-1)$"
   ]
  },
  {
   "cell_type": "markdown",
   "metadata": {
    "slideshow": {
     "slide_type": "subslide"
    }
   },
   "source": [
    "Moving forward one layer: the central location in layer $(\\ll+1)$\n",
    "- Is a function of the spatial locations in layer $\\ll$ that are encircled by the dashed square\n",
    "- Which in turn are a function of a larger number of layer $(\\ll-1)$ locations"
   ]
  },
  {
   "cell_type": "markdown",
   "metadata": {
    "slideshow": {
     "slide_type": "subslide"
    }
   },
   "source": [
    "In general\n",
    "- The number of layer $(\\ll-1)$ spatial locations\n",
    "- That affect a given spatial location in layer $\\ll' \\ge \\ll$\n",
    "- **Grows** as $\\ll'$ increases"
   ]
  },
  {
   "cell_type": "markdown",
   "metadata": {
    "slideshow": {
     "slide_type": "subslide"
    }
   },
   "source": [
    "We can continue this process backwards from layer $\\ll$ to layer $0$\n",
    "- Finally determining the set of input features (region of the input)\n",
    "- Affecting a single spatial location at layer $\\ll$"
   ]
  },
  {
   "cell_type": "markdown",
   "metadata": {
    "slideshow": {
     "slide_type": "subslide"
    }
   },
   "source": [
    "This region of layer $0$ spatial locations\n",
    "- Is called the **receptive field** of the layer $\\ll$ spatial location\n",
    "- They are what this single layer $\\ll$ spatial location \"sees\" (i.e., depend on)"
   ]
  },
  {
   "cell_type": "markdown",
   "metadata": {
    "slideshow": {
     "slide_type": "subslide"
    }
   },
   "source": [
    "- Let $\\idxspatial$ denote the spatial indices of a single location \n",
    "    - Length of $\\idxspatial$ depends on shape of data: one-dimensional, two-dimensional\n",
    "- Let\n",
    "$$\n",
    "\\y_{\\llp, \\idxspatial, k}\n",
    "$$\n",
    "denote the value of the $k^{th}$ feature of layer $\\ll$ at spatial location $\\idxspatial$\n",
    "    \n",
    "- In particular, we can refer to input features as\n",
    "$$\n",
    " \\y_{(0), \\idxspatial, k}\n",
    "$$"
   ]
  },
  {
   "cell_type": "markdown",
   "metadata": {
    "slideshow": {
     "slide_type": "subslide"
    }
   },
   "source": [
    "The receptive field $\\mathcal{R}_{\\llp, \\idxspatial}$  of spatial location $\\idxspatial$ of layer $\\ll$ is\n",
    "\n",
    "$$\n",
    "\\mathcal{R}_{\\llp, \\idxspatial} = \\left\\{ \\idxspatial' \\text{ at layer } 0 \\; | \\; \\y_{\\llp, \\idxspatial, k}\n",
    " \\text{ depends on } \\y_{(0), \\idxspatial', k'}\\right\\}\n",
    "$$ \n",
    "for some\n",
    "$$\n",
    "\\begin{array}[lll]\\\\\n",
    " 1  \\le & k  & \\le n_\\llp \\\\\n",
    " 1  \\le & k' & \\le n_{(0)} \\\\\n",
    "\\end{array}\n",
    "$$\n",
    "where\n",
    "$$\n",
    "\\begin{array}\\\\\n",
    "\\y_{\\llp, \\idxspatial, k} & \\text{ is the feature at spatial location } \\idxspatial \\text{ of feature map }k \\text{ of layer } \\ll \\\\\n",
    "\\end{array}\n",
    "$$\n",
    "\n",
    "(Note that $k, k'$ are really not necessary since the spatial locations are shared across all channels during convolution)"
   ]
  },
  {
   "cell_type": "markdown",
   "metadata": {
    "slideshow": {
     "slide_type": "slide"
    }
   },
   "source": [
    "# Saliency maps: Relating a feature to the input\n",
    "\n",
    "The receptive field of a single location at layer $\\ll$ \n",
    "- Defines *which* layer $0$ spatial locations affect the layer $\\ll$ location\n",
    "- But it does not measure the *magnitude* of the effect\n",
    "- Which may be different for each feature $k'$ of layer $0$ at the same spatial location\n"
   ]
  },
  {
   "cell_type": "markdown",
   "metadata": {
    "slideshow": {
     "slide_type": "subslide"
    }
   },
   "source": [
    "We therefore compute the *sensitivity* of a feature\n",
    "- At spatial location $\\idxspatial$ of feature map $k$ of  layer $\\ll$ of example $i$\n",
    "- To a change in the feature at spatial location $\\idxspatial'$ feature map $k'$ of layer $0$\n",
    "\n",
    "\n",
    "$$\n",
    "\\mathcal{s}^\\ip_{\\llp, \\idxspatial, k, (0), \\idxspatial', k'} =  \\frac{\\partial \\y^\\ip_{\\llp, \\idxspatial, k}}{\\partial  \\y^\\ip_{(0), \\idxspatial', k'}}\n",
    "$$\n",
    "\n",
    "Note that the sensitivity\n",
    "- Is *conditional* on the value of the input $\\x^\\ip$\n",
    "- Since the derivative's value depends on the particular input\n"
   ]
  },
  {
   "cell_type": "markdown",
   "metadata": {
    "slideshow": {
     "slide_type": "subslide"
    }
   },
   "source": [
    "**Saliency maps**\n",
    "\n",
    "Given layer $\\ll$ and feature $1 \\le k \\le n_\\llp$\n",
    "- We can construct an image\n",
    "- With same spatial dimension as layer $0$ (the input)\n",
    "- By creating a grid of\n",
    "$$\\mathcal{s}^\\ip_{\\llp, \\idxspatial, k, (0), \\idxspatial', k'}$$\n",
    "for each $\\idxspatial'$ in  layer $0$\n",
    "- Resulting in a \"heat map\" of how each input pixel affects the single spatial location of feature $k$ in layer $\\ll$"
   ]
  },
  {
   "cell_type": "markdown",
   "metadata": {
    "slideshow": {
     "slide_type": "subslide"
    }
   },
   "source": [
    "Rather than doing this for \n",
    "- each spatial location $\\idxspatial$ in layer $\\ll$\n",
    "- each input $\\x^\\ip$ in $\\X$\n",
    "\n",
    "We will create a handful of Saliency Maps for feature $k$ of layer $\\ll$\n",
    "- Limited to the Maximally Activating Examples for feature map $k$ of layer $\\ll$"
   ]
  },
  {
   "cell_type": "markdown",
   "metadata": {
    "slideshow": {
     "slide_type": "subslide"
    }
   },
   "source": [
    "Recall, Maximally Activating Examples are defined with respect to feature map $k$ of layer $\\ll$ as follows\n",
    "- For each $\\x^\\ip$: compute the (absolute value) of the maximum (across spatial locations) of the feature map\n",
    "- The Maximally Activating Examples are the examples with highest maximum values\n",
    "- That is: the examples to which the feature map reacts most intensely\n",
    "\n",
    "$\\text{MaxAct}_{\\llp,k} = [ i_1, \\ldots, i_m ]$ is the permutation of example indices, i.e., $[ i | 1 \\le i \\le m]$ that sorts $\\summaxact^\\ip_{\\llp,k}$\n",
    "- where $\\summaxact^\\ip_{\\llp,k}$ is the largest expression of the pattern anywhere in the spatial dimension of example $i$\n",
    "$$\n",
    "\\summaxact^\\ip_{\\llp,k} = \\max{ \\idxspatial } \\y^\\ip_{(\\ll), \\idxspatial,k}\n",
    "$$\n"
   ]
  },
  {
   "cell_type": "markdown",
   "metadata": {
    "slideshow": {
     "slide_type": "subslide"
    }
   },
   "source": [
    "Note that the Saliency Map\n",
    "- Has the same number of features/channels as layer $0$: $n_{(0)}$\n",
    "- Has spatial dimension limited to the receptive field of layer $\\ll$\n",
    "    - the input pixels not in the receptive field of layer $\\ll$ will have undefined sensitivity"
   ]
  },
  {
   "cell_type": "markdown",
   "metadata": {
    "slideshow": {
     "slide_type": "subslide"
    }
   },
   "source": [
    "For any input $\\x^\\ip$\n",
    "- We can view the Saliency Map for one layer $\\ll$ feature $k$ given $\\x^\\ip$\n",
    "- Along with the corresponding *patch* of $\\x^\\ip$ (part of $\\x^\\ip$ within receptive field of layer $\\ll$)"
   ]
  },
  {
   "cell_type": "markdown",
   "metadata": {
    "slideshow": {
     "slide_type": "subslide"
    }
   },
   "source": [
    "Here are visualizations of Saliency Maps and corresponding Patches of 9 images (the ones most activating the feature)\n",
    "- One layer 2 feature map\n",
    "- On the spatial location $\\idxspatial$ with maximum intensity in each image"
   ]
  },
  {
   "cell_type": "markdown",
   "metadata": {
    "slideshow": {
     "slide_type": "subslide"
    }
   },
   "source": [
    "<center><strong>Saliency Maps and Corresponding Patches<br>Single Layer 2 Feature Map<br>On multiple input images</strong></center>\n",
    "<table>\n",
    "    <tr>\n",
    "        <td><img src=\"images/ZF_p4_115_row10_col3_mag.png\"></td>\n",
    "        <td><img src=\"images/ZF_p4_115_row10_col3_patch_mag.png\"></td>\n",
    "    </tr>\n",
    "    <tr>\n",
    "        <td colspan=2><center>Layer 2 Feature Map (Row 10, col 3).</center></td>\n",
    "    </tr>\n",
    "</table>\n",
    "Attribution: https://arxiv.org/abs/1311.2901\n"
   ]
  },
  {
   "cell_type": "markdown",
   "metadata": {
    "slideshow": {
     "slide_type": "subslide"
    }
   },
   "source": [
    "The images are small because the Receptive Field of layer 2 is not that large.\n",
    "\n",
    "We can hypothesize that this Feature Map is responsible for creating the synthetic feature\n",
    ">\"There is an eye in the input\""
   ]
  },
  {
   "cell_type": "markdown",
   "metadata": {
    "slideshow": {
     "slide_type": "subslide"
    }
   },
   "source": [
    "What is particularly interesting is that, by the time we get deeper into the network\n",
    "- More complex \"patterns\" are being recognized\n",
    "- Perhaps due to the Receptive Field getting larger"
   ]
  },
  {
   "cell_type": "markdown",
   "metadata": {
    "slideshow": {
     "slide_type": "subslide"
    }
   },
   "source": [
    "Is the interpretation of the following feature map (with high intensity \"hot\" colors on lips and cheeks)\n",
    ">\"Is face with smile present\""
   ]
  },
  {
   "cell_type": "markdown",
   "metadata": {
    "slideshow": {
     "slide_type": "subslide"
    }
   },
   "source": [
    "<center><strong>Saliency Maps and Corresponding Patches<br>Single Layer 5 Feature Map<br>On 9 Maximally Activating Input images</strong></center>\n",
    "\n",
    "<table>\n",
    "    <tr>\n",
    "        <td><img src=\"images/ZF_p4_118_row11_col1_mag.png\"></td>\n",
    "        <td><img src=\"images/ZF_p4_118_row11_col1_patch_mag.png\"></td>\n",
    "    </tr>\n",
    "    <tr>\n",
    "        <td colspan=2><center>Layer 5 ? Feature Map (Row 11, col 1).</center></td>\n",
    "    </tr>\n",
    "</table>\n",
    "Attribution: https://arxiv.org/abs/1311.2901\n"
   ]
  },
  {
   "cell_type": "markdown",
   "metadata": {
    "slideshow": {
     "slide_type": "slide"
    }
   },
   "source": [
    "## Video: interactive interpretation of features\n",
    "\n",
    "There is a nice video by [Yosinski](https://youtu.be/AgkfIQ4IGaM) which examines the behavior of\n",
    "a Neural Network's layers on video images rather than stills.\n"
   ]
  },
  {
   "cell_type": "markdown",
   "metadata": {
    "slideshow": {
     "slide_type": "slide"
    }
   },
   "source": [
    "# Computing the Saliency Map: Inverting a Convolution\n",
    "Let's show how to compute the Saliency Map.\n",
    "\n",
    "- We feed $\\x^\\ip$ as input\n",
    "$$\n",
    "\\y_{(0)} = \\x^\\ip\n",
    "$$\n",
    "- Compute $\\y^\\ip_{\\llp, \\idxspatial, k}$ by moving left to right through the layers from $0$ to $\\ll$\n",
    "- Compute the sensitivities by moving right to left, from layer $\\ll$ to layer $0$"
   ]
  },
  {
   "cell_type": "markdown",
   "metadata": {
    "slideshow": {
     "slide_type": "subslide"
    }
   },
   "source": [
    "This is very much like the Forward and Backward Passes we saw in\n",
    "the module [Back propagation](Training_Neural_Network_Backprop.ipynb)\n",
    "\n",
    "\n",
    "Recall the pictures:\n"
   ]
  },
  {
   "cell_type": "markdown",
   "metadata": {
    "slideshow": {
     "slide_type": "subslide"
    }
   },
   "source": [
    "<div>\n",
    "    <center><strong>Forward Pass: Input to Loss</strong></center>\n",
    "<br>\n",
    "<img src=\"images/NN_Layers_plus_Loss_forward.png\">\n",
    "</div>"
   ]
  },
  {
   "cell_type": "markdown",
   "metadata": {},
   "source": [
    "<div>\n",
    "    <center><strong>Backward pass: Loss to Weights</strong></center>\n",
    "<br>\n",
    "<img src=\"images/NN_Layers_plus_Loss_backward.png\">\n",
    "</div>"
   ]
  },
  {
   "cell_type": "markdown",
   "metadata": {
    "slideshow": {
     "slide_type": "subslide"
    }
   },
   "source": [
    "The main difference is\n",
    "- We truncate the network at layer $\\ll$\n",
    "- Take the derivative of $\\y^\\ip_\\llp$ (given $\\x^\\ip$) rather than the Loss $\\loss$\n",
    "- Take derivatives with respect to input features $\\y^\\ip_{(0), \\idxspatial', k'}$ rather than weights $\\W$\n"
   ]
  },
  {
   "cell_type": "markdown",
   "metadata": {
    "slideshow": {
     "slide_type": "subslide"
    }
   },
   "source": [
    "The Forward Pass\n",
    "- Mapping $\\x^\\ip$ to $\\y^\\ip_\\llp$\n",
    "- Is called *Convolution*"
   ]
  },
  {
   "cell_type": "markdown",
   "metadata": {
    "slideshow": {
     "slide_type": "subslide"
    }
   },
   "source": [
    "The Backward Pass\n",
    "- Mapping $\\y^\\ip_\\llp$ to a Saliency Map (grid of sensitivities)\n",
    "- Is called *Deconvolution* or *Convolution Transpose*\n",
    "- It is like inverting the Convolution"
   ]
  },
  {
   "cell_type": "markdown",
   "metadata": {
    "slideshow": {
     "slide_type": "subslide"
    }
   },
   "source": [
    "Naive back propagation does not always give the best results.\n",
    "\n",
    "Zeiler and Fergus (and similar related papers) modify Back propagation \n",
    "- In an attempt to get better intuition as to which input features most affect a layer $\\ll$ feature\n",
    "- For example: ignore the *sign* of the derivatives as they flow backwards\n",
    "    - Look for strong positive or negative influences, not caring which\n",
    "\n",
    "This is called *Guided Back propagation*."
   ]
  },
  {
   "cell_type": "markdown",
   "metadata": {
    "slideshow": {
     "slide_type": "subslide"
    }
   },
   "source": [
    "We also mention that back propagation through some layers is a technical challenge\n",
    "- Max Pooling selects one value among all the spatial locations\n",
    "- Which one ?\n",
    "- Solution: Switches to record the location of the max on the Forward Pass"
   ]
  },
  {
   "cell_type": "markdown",
   "metadata": {
    "slideshow": {
     "slide_type": "subslide"
    }
   },
   "source": [
    "<div>\n",
    "    <center><strong>Conv 2D: Global Pooling (Max/Average)</strong> </center>\n",
    "    <br>\n",
    "<img src=images/GlobalPoolingLayer.png>\n",
    "    </div>"
   ]
  },
  {
   "cell_type": "markdown",
   "metadata": {
    "slideshow": {
     "slide_type": "slide"
    }
   },
   "source": [
    "# Conclusion\n",
    "\n",
    "We explored the idea of \"inverting\" the Convolution process\n",
    "- Instead of going from input (layer $0$) to layer $\\ll$\n",
    "- We proceeds backward from a single location in a single feature map of layer $\\ll$\n",
    "- In an attempt to interpret the feature that the layer $\\ll$ feature map is recognizing"
   ]
  },
  {
   "cell_type": "markdown",
   "metadata": {
    "slideshow": {
     "slide_type": "slide"
    }
   },
   "source": [
    "By mapping back to input layer $0$\n",
    "- We avoid the difficulty that arises \n",
    "when trying to interpret layer $\\ll$'s features as combinations of layer $(\\ll-1)$'s synthetic features.\n",
    "\n",
    "Detailed experiments by Zeiler and Fergus\n",
    "- Support the hypothesis that\n",
    "- Deeper layers recognize features of increasing complexity"
   ]
  },
  {
   "cell_type": "code",
   "execution_count": 4,
   "metadata": {
    "slideshow": {
     "slide_type": "slide"
    }
   },
   "outputs": [
    {
     "name": "stdout",
     "output_type": "stream",
     "text": [
      "Done\n"
     ]
    }
   ],
   "source": [
    "print(\"Done\")"
   ]
  }
 ],
 "metadata": {
  "celltoolbar": "Slideshow",
  "kernelspec": {
   "display_name": "Python 3",
   "language": "python",
   "name": "python3"
  },
  "language_info": {
   "codemirror_mode": {
    "name": "ipython",
    "version": 3
   },
   "file_extension": ".py",
   "mimetype": "text/x-python",
   "name": "python",
   "nbconvert_exporter": "python",
   "pygments_lexer": "ipython3",
   "version": "3.7.4"
  },
  "toc": {
   "base_numbering": 1,
   "nav_menu": {},
   "number_sections": true,
   "sideBar": true,
   "skip_h1_title": false,
   "title_cell": "Table of Contents",
   "title_sidebar": "Contents",
   "toc_cell": false,
   "toc_position": {
    "height": "calc(100% - 180px)",
    "left": "10px",
    "top": "150px",
    "width": "370.594px"
   },
   "toc_section_display": true,
   "toc_window_display": true
  }
 },
 "nbformat": 4,
 "nbformat_minor": 2
}
